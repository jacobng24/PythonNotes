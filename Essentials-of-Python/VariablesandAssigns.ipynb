{
 "cells": [
  {
   "cell_type": "code",
   "execution_count": 8,
   "metadata": {},
   "outputs": [],
   "source": [
    "name = \"Brian\"\n",
    "grade = 92\n",
    "failing = False\n",
    "\n",
    "if grade < 60:\n",
    "    failing = True\n",
    "\n",
    "# writes: name | grade | passing-status\n",
    "# to the end of the file \"student_grades.txt\"\n",
    "with open(\"student_grades.txt\", mode=\"a\") as opened_file:\n",
    "    opened_file.write(\"{} | {} | {}\".format(name, grade, failing))"
   ]
  },
  {
   "cell_type": "code",
   "execution_count": 1,
   "metadata": {},
   "outputs": [
    {
     "name": "stdout",
     "output_type": "stream",
     "text": [
      "[1, 2, 3]\n",
      "[1, 2, 3, 4, 5]\n",
      "[1, 2, 3]\n"
     ]
    }
   ],
   "source": [
    "x = [1,2,3,4]\n",
    "y = x[0:3]\n",
    "print(y)\n",
    "x.append(5)\n",
    "print(x)\n",
    "print(y)\n"
   ]
  },
  {
   "cell_type": "code",
   "execution_count": 8,
   "metadata": {},
   "outputs": [
    {
     "name": "stdout",
     "output_type": "stream",
     "text": [
      "[1, 2, 3, 5]\n",
      "codeakljsnkjasn\n"
     ]
    }
   ],
   "source": [
    "x = [1,2,3]\n",
    "y=x\n",
    "y.append(5)\n",
    "print(x)\n",
    "\n",
    "\n"
   ]
  }
 ],
 "metadata": {
  "kernelspec": {
   "display_name": "base",
   "language": "python",
   "name": "python3"
  },
  "language_info": {
   "codemirror_mode": {
    "name": "ipython",
    "version": 3
   },
   "file_extension": ".py",
   "mimetype": "text/x-python",
   "name": "python",
   "nbconvert_exporter": "python",
   "pygments_lexer": "ipython3",
   "version": "3.9.13"
  },
  "orig_nbformat": 4,
  "vscode": {
   "interpreter": {
    "hash": "caca2e1f2cf956f3f423d6a7dbff1718e7ac4852b47e537eb119e8f271864121"
   }
  }
 },
 "nbformat": 4,
 "nbformat_minor": 2
}
