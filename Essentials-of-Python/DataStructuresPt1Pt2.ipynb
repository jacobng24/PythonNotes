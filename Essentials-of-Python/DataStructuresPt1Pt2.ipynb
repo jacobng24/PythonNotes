{
 "cells": [
  {
   "cell_type": "code",
   "execution_count": 4,
   "metadata": {},
   "outputs": [
    {
     "data": {
      "text/plain": [
       "4"
      ]
     },
     "execution_count": 4,
     "metadata": {},
     "output_type": "execute_result"
    }
   ],
   "source": [
    "#Data Structures include Sets and dicts (dictionaries)\n",
    "#Sets and dicts are faster because Python uses a faster algo\n",
    "#O notation\n",
    "seq = (1,2,3,4)\n",
    "len(seq) \n",
    "# tbh, I dont really understand O notation\n",
    "# Basically Big O Notation expresses complexity of an algorithim\n",
    "# but basically, its like f(x)\n",
    "#len (seq) is O(1) because it goes through one time\n",
    "#for for item in seq and obj in seq, it goes through O(n)'\n",
    "#my_list.sort()'s complexity is O(nlog(n))\n"
   ]
  },
  {
   "attachments": {},
   "cell_type": "markdown",
   "metadata": {},
   "source": [
    "- O Notation\n",
    "- tbh, I dont really understand O notation\n",
    "- Basically Big O Notation expresses complexity of an algorithim\n",
    "- **but basically, its like f(x)**\n",
    "- len (seq) is O(1) because it goes through one time\n",
    "- for for item in seq and obj in seq, it goes through O(n)'\n",
    "- my_list.sort()'s complexity is O(nlog(n))"
   ]
  },
  {
   "cell_type": "code",
   "execution_count": 3,
   "metadata": {},
   "outputs": [
    {
     "name": "stdout",
     "output_type": "stream",
     "text": [
      "<class 'dict'>\n",
      "8.01\n",
      "{'apple': 'fruit', 'carrot': 'vegetable'}\n"
     ]
    }
   ],
   "source": [
    "# use a dictionary to map groceries to prices: item-name -> price\n",
    "items_to_prices = {\"cheese\": 2.53, \"milk\": 3.40, \"frozen pizza\": 8.01}\n",
    "print(type(items_to_prices))\n",
    "# looking up the price of \"frozen pizza\"\n",
    "print(items_to_prices[\"frozen pizza\"])\n",
    "#Two ways to construct dict\n",
    "fruit_or_veggie = {\"apple\":\"fruit\", \"carrot\":\"vegetable\"}\n",
    "{}\n",
    "#Can use dict function\n",
    "dict()\n",
    "fruit_or_veggie = dict([(\"apple\", \"fruit\"), (\"carrot\", \"vegetable\")])\n",
    "#Also uses dict-comprehension like generator comprehension\n",
    "print({k:v for k, v in [(\"apple\", \"fruit\"), (\"carrot\", \"vegetable\")]})"
   ]
  },
  {
   "cell_type": "code",
   "execution_count": 9,
   "metadata": {},
   "outputs": [
    {
     "name": "stdout",
     "output_type": "stream",
     "text": [
      "fruit\n",
      "{'apple': 'fruit', 'carrot': 'vegetable', 'banana': 'fruit', 'grape': 'fruit', 'onion': 'vegetable'}\n",
      "{'apple': 'fruit', 'carrot': 'vegetable', 'banana': 'fruit', 'grape': 'fruit', 'onion': 'vegetable'}\n"
     ]
    }
   ],
   "source": [
    "#Retrieving a Value\n",
    "print(fruit_or_veggie[\"apple\"])\n",
    "#adding a new key-value pair\n",
    "fruit_or_veggie[\"banana\"] = \"fruit\"\n",
    "print(fruit_or_veggie)\n",
    "#Updating allows to add multiple pairs\n",
    "fruit_or_veggie.update([(\"grape\", \"fruit\"), (\"onion\", \"vegetable\")])\n",
    "print(fruit_or_veggie)"
   ]
  },
  {
   "cell_type": "code",
   "execution_count": 11,
   "metadata": {},
   "outputs": [
    {
     "name": "stdout",
     "output_type": "stream",
     "text": [
      "apple\n"
     ]
    }
   ],
   "source": [
    "#Examples of what Dict can store:\n",
    "example_dict = {-1:10, \"moo\":True, (1, 2):print, 3.4:\"cow\", False:[]}\n",
    "#A dict key must be a immutable object (ints, strs, tuples, bools, frozenset)\n",
    "#A value is mutable\n",
    "#key:value\n",
    "#Dicts also have limited numerical precision\n",
    "#We can use round() to bypass this\n",
    "x={}\n",
    "float_key = round((0.1 + 0.1 + 0.1) - 0.3, 2)\n",
    "x[float_key] = \"apple\"\n",
    "print(x[0.0])"
   ]
  },
  {
   "cell_type": "code",
   "execution_count": 29,
   "metadata": {},
   "outputs": [
    {
     "name": "stdout",
     "output_type": "stream",
     "text": [
      "['key1', 'key2', 'key3']\n",
      "True\n",
      "False\n",
      "3\n",
      "['value1', 'value2', 'value3']\n",
      "True\n",
      "[('key1', 'value1'), ('key2', 'value2'), ('key3', 'value3')]\n",
      "True\n"
     ]
    }
   ],
   "source": [
    "#INspecting a dict's keys(gets defaulted, but you can use .keys())\n",
    "example_dict = {\"key1\":\"value1\", \"key2\":\"value2\", \"key3\":\"value3\"}\n",
    "print([i for i in example_dict])\n",
    "print(\"key3\" in example_dict)\n",
    "print(\"value3\" in example_dict)\n",
    "print(len(example_dict))\n",
    "#Inspecting a dict's values (needs .values())\n",
    "print([i for i in example_dict.values()])\n",
    "print(\"value1\" in example_dict.values())\n",
    "#Inspecting pairs (use .items())\n",
    "print([i for i in example_dict.items()])\n",
    "print(('key1', 'value1') in example_dict.items())\n"
   ]
  },
  {
   "cell_type": "code",
   "execution_count": null,
   "metadata": {},
   "outputs": [],
   "source": [
    "#IMPORTANT NOTE\n",
    "#DICTS ARE UNORDERED IN PYTHON 3.5 OR BELOW\n",
    "#YOU MUST SPECIFY THAT CODE IS INCOMPATIBLE WITH VERSIONS PRIOR TO 3.6 UNLESS:\n",
    "from collections import OrderedDict\n",
    "ordered = OrderedDict([('key1', 'value1'),('key2', 'value2')])\n",
    "[i for i in ordered]"
   ]
  },
  {
   "cell_type": "code",
   "execution_count": 30,
   "metadata": {},
   "outputs": [
    {
     "name": "stdout",
     "output_type": "stream",
     "text": [
      "{'Ashley': 0.92, 'David': 0.72, 'Edward': 0.88, 'Zoe': 0.77}\n",
      "{'v1': 'k1', 'v2': 'k2', 'v3': 'k3'}\n"
     ]
    },
    {
     "data": {
      "text/plain": [
       "'c'"
      ]
     },
     "execution_count": 30,
     "metadata": {},
     "output_type": "execute_result"
    }
   ],
   "source": [
    "#Excercises\n",
    "names = (\"Ashley\", \"David\", \"Edward\", \"Zoe\")\n",
    "scores = (0.92, 0.72, 0.88, 0.77)\n",
    "grades = {student:value for student, value in zip(names, scores)}\n",
    "print(grades)\n",
    "x = {'k1': 'v1', 'k2': 'v2', 'k3': 'v3'}\n",
    "def inverted(x):\n",
    "    inverted_x = {}\n",
    "    for key, value in x.items():\n",
    "        inverted_x[value] = key\n",
    "    return inverted_x\n",
    "print(inverted(x))\n",
    "\n",
    "def sort(x):\n",
    "    return max(x, key=x.get)\n",
    "sort({'a': 0, 'b': 2, 'c': 200, 'd': 0})"
   ]
  },
  {
   "cell_type": "code",
   "execution_count": 50,
   "metadata": {},
   "outputs": [
    {
     "data": {
      "text/plain": [
       "True"
      ]
     },
     "execution_count": 50,
     "metadata": {},
     "output_type": "execute_result"
    }
   ],
   "source": [
    "example_dict = {\"a\":1, \"key2\":\"value2\", \"key3\":\"value3\"}\n",
    "(\"key2\", \"value2\") in example_dict.items()\n"
   ]
  }
 ],
 "metadata": {
  "kernelspec": {
   "display_name": "base",
   "language": "python",
   "name": "python3"
  },
  "language_info": {
   "codemirror_mode": {
    "name": "ipython",
    "version": 3
   },
   "file_extension": ".py",
   "mimetype": "text/x-python",
   "name": "python",
   "nbconvert_exporter": "python",
   "pygments_lexer": "ipython3",
   "version": "3.9.13"
  },
  "orig_nbformat": 4,
  "vscode": {
   "interpreter": {
    "hash": "caca2e1f2cf956f3f423d6a7dbff1718e7ac4852b47e537eb119e8f271864121"
   }
  }
 },
 "nbformat": 4,
 "nbformat_minor": 2
}
