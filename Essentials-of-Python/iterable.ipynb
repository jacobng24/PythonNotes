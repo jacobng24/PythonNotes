{
 "cells": [
  {
   "cell_type": "code",
   "execution_count": 4,
   "metadata": {},
   "outputs": [
    {
     "name": "stdout",
     "output_type": "stream",
     "text": [
      "['I', ' ', 'a', 'm', ' ', 'a', ' ', 'c', 'o', 'w']\n",
      "6\n",
      "['a', 'g', 'g', 'h', 'i', 'j', 'j', 'k', 'n', 'n', 'n', 'o', 'q', 'x']\n",
      "False\n",
      "True\n",
      "9\n",
      "e\n"
     ]
    }
   ],
   "source": [
    "#Functions that act on iterables\n",
    "print(list(\"I am a cow\"))\n",
    "print(sum([1,2,3]))\n",
    "print(sorted(\"ghakjxjnqinngo\"))\n",
    "print(any((0, None, [], 0))) #evalulates true if anything is true\n",
    "print(all([1, (0, 1), True, \"hi\"])) #evaluatues true if all items in iterable\n",
    "print(max((5,8,9,0))) #returns max value\n",
    "print(min(\"hello\")) #returns minimum value"
   ]
  },
  {
   "cell_type": "code",
   "execution_count": 10,
   "metadata": {},
   "outputs": [
    {
     "name": "stdout",
     "output_type": "stream",
     "text": [
      "7 9 11\n",
      "('Ashley', 93)\n",
      "('Brad', 95)\n",
      "('Cassie', 84)\n",
      "Ashley\n",
      "93\n",
      "\n",
      "\n",
      "Brad\n",
      "95\n",
      "\n",
      "\n",
      "Cassie\n",
      "84\n",
      "\n",
      "\n"
     ]
    }
   ],
   "source": [
    "#Iterable unpacking\n",
    "#assigns contents of lists to variables\n",
    "my_list = [7,9,11]\n",
    "x, y, z = my_list\n",
    "print(x,y,z)\n",
    "\n",
    "#Simple For loop for the list\n",
    "grades = [(\"Ashley\", 93), (\"Brad\", 95), (\"Cassie\", 84)]\n",
    "for entry in grades:\n",
    "    print(entry)\n",
    "#for loop with iterable unpacking\n",
    "for name, grades in grades:\n",
    "    print(name)\n",
    "    print(grades)\n",
    "    print(\"\\n\")\n",
    "\n"
   ]
  },
  {
   "cell_type": "code",
   "execution_count": 23,
   "metadata": {},
   "outputs": [
    {
     "name": "stdout",
     "output_type": "stream",
     "text": [
      "(0, 'a')\n",
      "(1, 'b')\n",
      "(2, 'c')\n",
      "(3, 'd')\n",
      "[1, 3]\n"
     ]
    }
   ],
   "source": [
    "#enumeration in iterables\n",
    "# basic usage of `enumerate`\n",
    "for entry in enumerate(\"abcd\"):\n",
    "    print(entry)\n",
    "\n",
    "\n",
    "none_indices = []\n",
    "iter_cnt = 0  # manually track iteration-count\n",
    "\n",
    "for item in [2, None, -10, None, 4, 8]:\n",
    "    if item is None:\n",
    "        none_indices.append(iter_cnt)\n",
    "    iter_cnt = iter_cnt + 1\n",
    "\n",
    "# using the `enumerate` function to keep iteration-count\n",
    "none_indices = []\n",
    "\n",
    "# note the use of iterable unpacking!\n",
    "for iter_cnt, item in enumerate([2, None, -10, None, 4, 8]):\n",
    "    if item is None:\n",
    "        none_indices.append(iter_cnt)\n",
    "print(none_indices)"
   ]
  },
  {
   "cell_type": "code",
   "execution_count": 2,
   "metadata": {},
   "outputs": [
    {
     "name": "stdout",
     "output_type": "stream",
     "text": [
      "[(0, 'a'), (1, 'b'), (2, 'c'), (3, 'd')]\n",
      "2\n"
     ]
    }
   ],
   "source": [
    "#Excercises\n",
    "list1 = []\n",
    "for item in enumerate(\"abcd\"):\n",
    "    list1.append(item)\n",
    "print(list1)\n",
    "\n",
    "my_list = [0, 1, -10, 2]\n",
    "unsorted_index = None\n",
    "for unsorted_index, item in enumerate(my_list):\n",
    "    if unsorted_index == 0: #this sets prev_num = item at start of checking\n",
    "        prev_num = item\n",
    "    elif prev_num > item:\n",
    "        unsorted_index = unsorted_index\n",
    "        break\n",
    "    prev_num = item\n",
    "else:\n",
    "    print(\"sorted!\")\n",
    "\n",
    "print(unsorted_index)\n",
    "\n",
    "        \n"
   ]
  },
  {
   "cell_type": "markdown",
   "metadata": {},
   "source": []
  },
  {
   "cell_type": "code",
   "execution_count": null,
   "metadata": {},
   "outputs": [],
   "source": []
  }
 ],
 "metadata": {
  "kernelspec": {
   "display_name": "base",
   "language": "python",
   "name": "python3"
  },
  "language_info": {
   "codemirror_mode": {
    "name": "ipython",
    "version": 3
   },
   "file_extension": ".py",
   "mimetype": "text/x-python",
   "name": "python",
   "nbconvert_exporter": "python",
   "pygments_lexer": "ipython3",
   "version": "3.9.13"
  },
  "orig_nbformat": 4,
  "vscode": {
   "interpreter": {
    "hash": "caca2e1f2cf956f3f423d6a7dbff1718e7ac4852b47e537eb119e8f271864121"
   }
  }
 },
 "nbformat": 4,
 "nbformat_minor": 2
}
