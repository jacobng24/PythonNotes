{
 "cells": [
  {
   "attachments": {},
   "cell_type": "markdown",
   "metadata": {},
   "source": [
    "Print "
   ]
  },
  {
   "cell_type": "code",
   "execution_count": 10,
   "metadata": {},
   "outputs": [
    {
     "name": "stdout",
     "output_type": "stream",
     "text": [
      "Hello World\n"
     ]
    }
   ],
   "source": [
    "print(\"Hello World\")"
   ]
  },
  {
   "attachments": {},
   "cell_type": "markdown",
   "metadata": {},
   "source": [
    "Simple Arithmetic"
   ]
  },
  {
   "cell_type": "code",
   "execution_count": 12,
   "metadata": {},
   "outputs": [
    {
     "name": "stdout",
     "output_type": "stream",
     "text": [
      "15\n",
      "5\n",
      "50\n",
      "2.0\n",
      "0\n",
      "-10\n",
      "10\n"
     ]
    }
   ],
   "source": [
    "x=10\n",
    "y=5\n",
    "print(x+y)\n",
    "print(x-y)\n",
    "print(x*y)\n",
    "print(x%y)\n",
    "print(-x)\n",
    "print(abs(x))"
   ]
  },
  {
   "attachments": {},
   "cell_type": "markdown",
   "metadata": {},
   "source": [
    "Simple Arithmetic Returning Booleans"
   ]
  },
  {
   "cell_type": "code",
   "execution_count": 11,
   "metadata": {},
   "outputs": [
    {
     "name": "stdout",
     "output_type": "stream",
     "text": [
      "False\n",
      "True\n",
      "True\n",
      "False\n",
      "False\n"
     ]
    }
   ],
   "source": [
    "print(x==y)\n",
    "print(x!=y)\n",
    "print(x>=y)\n",
    "print(x<y)\n",
    "print(x<=y)\n",
    "\n",
    "\n"
   ]
  },
  {
   "attachments": {},
   "cell_type": "markdown",
   "metadata": {},
   "source": [
    "New Arithmetic!!"
   ]
  },
  {
   "cell_type": "code",
   "execution_count": 20,
   "metadata": {},
   "outputs": [
    {
     "name": "stdout",
     "output_type": "stream",
     "text": [
      "2\n",
      "0\n",
      "1\n",
      "2.0\n",
      "100000\n"
     ]
    }
   ],
   "source": [
    "# floor division, does not return decimals (quotient returned as int)\n",
    "print (x // y)\n",
    "print (1 // 3) #returns 0\n",
    "print (3 // 2) #returns 1\n",
    "# quotient returned as double\n",
    "print(x/y)\n",
    "# x to the power of y\n",
    "print(x ** y)\n"
   ]
  },
  {
   "attachments": {},
   "cell_type": "markdown",
   "metadata": {},
   "source": [
    "Precedence"
   ]
  },
  {
   "cell_type": "code",
   "execution_count": 19,
   "metadata": {},
   "outputs": [
    {
     "name": "stdout",
     "output_type": "stream",
     "text": [
      "7\n",
      "9\n",
      "1\n",
      "True\n"
     ]
    }
   ],
   "source": [
    "# multiplication takes precedence over addition\n",
    "print(1 + 2 * 3)\n",
    "print((1+2)*3)\n",
    "print (11 % 5)\n",
    "print ((2 ** 3) < (2 ** 4))\n"
   ]
  },
  {
   "cell_type": "code",
   "execution_count": 24,
   "metadata": {},
   "outputs": [
    {
     "name": "stdout",
     "output_type": "stream",
     "text": [
      "2.0\n",
      "1.0\n",
      "24\n"
     ]
    }
   ],
   "source": [
    "import math #imports math module \n",
    "print(math.sqrt(4.))\n",
    "print(math.log10(10.))\n",
    "print(math.factorial(4)) #4! = 4*3*2*1\n"
   ]
  },
  {
   "cell_type": "code",
   "execution_count": 27,
   "metadata": {},
   "outputs": [
    {
     "name": "stdout",
     "output_type": "stream",
     "text": [
      "<class 'int'>\n",
      "False\n",
      "10\n",
      "1\n"
     ]
    }
   ],
   "source": [
    "print(type(-3))\n",
    "print(isinstance(1.3, int))\n",
    "print(int(\"10\"))\n",
    "print(int(1.3))\n",
    "# int () converts into integer"
   ]
  },
  {
   "cell_type": "code",
   "execution_count": 28,
   "metadata": {},
   "outputs": [
    {
     "name": "stdout",
     "output_type": "stream",
     "text": [
      "<class 'float'>\n",
      "True\n",
      "10.456\n",
      "-22.0\n"
     ]
    }
   ],
   "source": [
    "#doubles in python are called floats\n",
    "print(type(-2.1))\n",
    "print(isinstance(10. ,float))\n",
    "print(float(\"10.456\"))\n",
    "print(float(-22))\n"
   ]
  },
  {
   "cell_type": "code",
   "execution_count": 35,
   "metadata": {},
   "outputs": [
    {
     "name": "stdout",
     "output_type": "stream",
     "text": [
      "1e-07\n",
      "1111111111111111111111111111111111111111111111111111111111111111111111111111111111111111111111111111\n",
      "1.111111111111111e+99\n",
      "1.0\n"
     ]
    }
   ],
   "source": [
    "# Scientific Notation\n",
    "print(0.0000001)\n",
    "print (int(\"1\"*100))\n",
    "#float can only be presented with numerical precision of \n",
    "#16 decimal places (8bytes of mem)\n",
    "print(float(\"1\"*100))\n",
    "#can't change float beyond precision\n",
    "print(1. + 1e-16)\n",
    "\n"
   ]
  },
  {
   "cell_type": "code",
   "execution_count": 40,
   "metadata": {},
   "outputs": [
    {
     "name": "stdout",
     "output_type": "stream",
     "text": [
      "False\n",
      "True\n"
     ]
    }
   ],
   "source": [
    "#Do not check to see if floats are exactly equal\n",
    "print(0.1+0.1+0.1-0.3 == 0)\n",
    "#Instead use math.isclose\n",
    "print(math.isclose((0.1 + 0.1 + 0.1 - 0.3), 0., abs_tol=1e-9))\n"
   ]
  },
  {
   "cell_type": "code",
   "execution_count": 44,
   "metadata": {},
   "outputs": [
    {
     "name": "stdout",
     "output_type": "stream",
     "text": [
      "(2+3j)\n",
      "<class 'complex'>\n",
      "True\n",
      "1.2\n",
      "-3.4\n"
     ]
    }
   ],
   "source": [
    "# Complex Numbers (i is j) must use numerical value infront of j\n",
    "print(complex (2, 3))\n",
    "print(type (2+3j))\n",
    "print(isinstance(2-4j, complex))\n",
    "x = complex (1.2, -3.4)\n",
    "print(x.real)\n",
    "print(x.imag)"
   ]
  },
  {
   "cell_type": "code",
   "execution_count": 45,
   "metadata": {},
   "outputs": [
    {
     "name": "stdout",
     "output_type": "stream",
     "text": [
      "1000000\n"
     ]
    }
   ],
   "source": [
    "#underscores (basically commas for large #s)\n",
    "print(1_000_000)"
   ]
  },
  {
   "cell_type": "code",
   "execution_count": 48,
   "metadata": {},
   "outputs": [
    {
     "name": "stdout",
     "output_type": "stream",
     "text": [
      "3\n"
     ]
    }
   ],
   "source": [
    "#bools are same except capitalized\n",
    "#true = 1 and false = 0 however numerically\n",
    "print(3*True - False)"
   ]
  },
  {
   "cell_type": "code",
   "execution_count": 49,
   "metadata": {},
   "outputs": [
    {
     "name": "stdout",
     "output_type": "stream",
     "text": [
      "<class 'NoneType'>\n"
     ]
    }
   ],
   "source": [
    "#None-Type\n",
    "print(type(None))\n",
    "x = 22\n",
    "print(x is None)\n",
    "y = None\n",
    "print(y is None)\n",
    "# None is often used as placeholder in code"
   ]
  },
  {
   "cell_type": "code",
   "execution_count": 59,
   "metadata": {},
   "outputs": [
    {
     "name": "stdout",
     "output_type": "stream",
     "text": [
      "Hello World\n",
      "Hello World\n",
      " hi\n",
      "Hello World.\n",
      "Secondline\n",
      "Thirdline\n",
      "10.34\n",
      "True\n",
      "Hello\n",
      "item1...item2...item3\n",
      "True\n",
      "False\n"
     ]
    }
   ],
   "source": [
    "#Strings\n",
    "print ('Hello World')\n",
    "print(\"Hello World\\n hi\")\n",
    "print (\"\"\"Hello World.\n",
    "Secondline\n",
    "Thirdline\"\"\") #triple quotes don't need \\n\n",
    "print(str(10.34))\n",
    "print(str(True))\n",
    "print(\"hello\".capitalize())\n",
    "print(\"...\".join([\"item1\", \"item2\", \"item3\"]))\n",
    "print(\"script.py\".endswith(\".py\"))\n",
    "print(\"script.py\".startswith(\".sx\"))\n"
   ]
  },
  {
   "cell_type": "code",
   "execution_count": 64,
   "metadata": {},
   "outputs": [
    {
     "name": "stdout",
     "output_type": "stream",
     "text": [
      "Bruce is 80 years old\n",
      "    stew\n",
      "Batman has 12 apples. Catwoman has 10 apples. Together, they have 22 apples. Batman has 12 apples. Catwoman has 10 apples. Together, they have 22 apples.\n",
      "\n",
      "\n"
     ]
    }
   ],
   "source": [
    "#String Formatting\n",
    "print(\"{name} is {age} years old\".format(name=\"Bruce\", age=80))\n",
    "#Padding a string with spaces to make it 8 characters\n",
    "print(\"{item:>8}\".format(item=\"stew\"))\n",
    "# an example of an 'f-string'\n",
    "batman = 12\n",
    "catwoman = 10\n",
    "print(f\"Batman has {batman} apples. Catwoman has {catwoman} apples. Together, they have {batman + catwoman} apples. \"\n",
    "'Batman has 12 apples. Catwoman has 10 apples. Together, they have 22 apples.')\n",
    "#empty string\n",
    "print(\"\")\n",
    "#empty f-string\n",
    "print(f\"\")\n",
    "#brackets are executed as python code\n"
   ]
  },
  {
   "cell_type": "code",
   "execution_count": 83,
   "metadata": {},
   "outputs": [
    {
     "name": "stdout",
     "output_type": "stream",
     "text": [
      "    cat    \n",
      "----cat----\n",
      "I am aware that.spaces.are.a.thing\n",
      "basket\n",
      "Hello\n",
      "\tover there\n",
      "Joe is old enough to watch the movie: False\n"
     ]
    }
   ],
   "source": [
    "#excercises\n",
    "print(\"cat\".center(11))\n",
    "print(\"cat\".center(11, \"-\"))\n",
    "print(\"I.am.aware.that.spaces.are.a.thing\".replace(\".\", \" \", 3))\n",
    "print(\"  basket    \".strip())\n",
    "print(\"Hello\\n\\tover there\")\n",
    "str(12)\n",
    "name = \"Joe\"\n",
    "age = 12\n",
    "bool = (age >= 13)\n",
    "print(f\"{name} is old enough to watch the movie: {bool}\")"
   ]
  },
  {
   "cell_type": "code",
   "execution_count": 95,
   "metadata": {},
   "outputs": [
    {
     "name": "stdout",
     "output_type": "stream",
     "text": [
      "[3.5, None, 3.5, True, 'Hello']\n",
      "<class 'list'>\n",
      "True\n",
      "['a', 'p', 'p', 'l', 'e']\n",
      "False\n"
     ]
    }
   ],
   "source": [
    "#List is array basically but better\n",
    "print([3.5, None, 3.5, True, 'Hello'])\n",
    "print(type([1,2,3]))\n",
    "print(isinstance([1,2], list))\n",
    "print(list(\"apple\"))\n",
    "# A list's ordering matters\n",
    "print([1, \"a\", True] == [1, True, \"a\"])\n"
   ]
  },
  {
   "cell_type": "code",
   "execution_count": 114,
   "metadata": {},
   "outputs": [
    {
     "name": "stdout",
     "output_type": "stream",
     "text": [
      "5\n",
      "[4, 6]\n",
      "2\n",
      "[2, 'apple', 6, 8, 10]\n",
      "[2, -3, -4, -5, 10]\n",
      "None\n",
      "[2, -3, -4, -5, 10, 'moo']\n",
      "None\n",
      "[2, -3, -4, -5, 10, 'moo', True, False, None]\n",
      "-3\n",
      "[2, -4, -5, 10, 'moo', True, False, None]\n",
      "[2, -5, 10, 'moo', True, False, None]\n"
     ]
    }
   ],
   "source": [
    "x = [2, 4, 6, 8, 10]\n",
    "print(len(x))\n",
    "print(x[1:3])\n",
    "print(x[0])\n",
    "#mutating lists\n",
    "x [1] = \"apple\"\n",
    "print(x)\n",
    "x[1:4] = [-3, -4, -5]\n",
    "print(x)\n",
    "#append is to add single object, extend extends object\n",
    "print(x.append(\"moo\"))\n",
    "print(x)\n",
    "print(x.extend([True, False, None]))\n",
    "print(x)\n",
    "#pop removes and returns value removed, remove just removes\n",
    "print(x.pop(1))\n",
    "print(x)\n",
    "x.remove(-4)\n",
    "print(x)\n"
   ]
  },
  {
   "cell_type": "code",
   "execution_count": 120,
   "metadata": {},
   "outputs": [
    {
     "name": "stdout",
     "output_type": "stream",
     "text": [
      "[10, True, 'hi', 2.0, 3j]\n",
      "['Adam', 'Bob', 'Jack', 'Jackenzie', 'Jane', 'Ryan', 'Zordon']\n"
     ]
    }
   ],
   "source": [
    "#excercise\n",
    "[None]\n",
    "k = [10, True, \"hi\"]\n",
    "k.extend([2.0, 3j])\n",
    "print(k)\n",
    "p = [\"Jane\", \"Adam\", \"Ryan\", \"Bob\", \"Zordon\", \"Jack\", \"Jackenzie\"]\n",
    "p.sort()\n",
    "print(p)"
   ]
  }
 ],
 "metadata": {
  "kernelspec": {
   "display_name": "base",
   "language": "python",
   "name": "python3"
  },
  "language_info": {
   "codemirror_mode": {
    "name": "ipython",
    "version": 3
   },
   "file_extension": ".py",
   "mimetype": "text/x-python",
   "name": "python",
   "nbconvert_exporter": "python",
   "pygments_lexer": "ipython3",
   "version": "3.9.13"
  },
  "orig_nbformat": 4,
  "vscode": {
   "interpreter": {
    "hash": "caca2e1f2cf956f3f423d6a7dbff1718e7ac4852b47e537eb119e8f271864121"
   }
  }
 },
 "nbformat": 4,
 "nbformat_minor": 2
}
