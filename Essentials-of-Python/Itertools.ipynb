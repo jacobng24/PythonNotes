{
 "cells": [
  {
   "cell_type": "code",
   "execution_count": 7,
   "metadata": {},
   "outputs": [
    {
     "name": "stdout",
     "output_type": "stream",
     "text": [
      "range(0, 10)\n",
      "[0, 3, 6, 9]\n",
      "[(0, 'apple'), (1, 'banana'), (2, 'cat'), (3, 'dog')]\n",
      "[('Angie', 90, 95), ('Brian', 82, 84), ('Cassie', 79, 72), ('David', 87, 91)]\n"
     ]
    }
   ],
   "source": [
    "#Three Already imported Itertools\n",
    "#Range\n",
    "print(range(10))\n",
    "print(list(range(0, 10, 3)))\n",
    "#Enumerate\n",
    "enumerate([\"apple\", \"banana\", \"cat\", \"dog\"])\n",
    "print(list(enumerate([\"apple\", \"banana\", \"cat\", \"dog\"])))\n",
    "#Zip (zips together elements of iterables into tuples)\n",
    "names = [\"Angie\", \"Brian\", \"Cassie\", \"David\"]\n",
    "exam_1_scores = [90, 82, 79, 87]\n",
    "exam_2_scores = [95, 84, 72, 91]\n",
    "zip(names, exam_1_scores, exam_2_scores)\n",
    "print(list(zip(names, exam_1_scores, exam_2_scores)))\n"
   ]
  },
  {
   "cell_type": "code",
   "execution_count": 20,
   "metadata": {},
   "outputs": [
    {
     "name": "stdout",
     "output_type": "stream",
     "text": [
      "<itertools.chain object at 0x7fa6e3c36130>\n",
      "[0, 2, 4, 9, 16, 25, 'moo', 'cow', 'h', 'i', 'm']\n",
      "[(0, 1, 2), (0, 1, 3), (0, 2, 3), (1, 2, 3)]\n",
      "[(0, 1), (0, 2), (0, 3), (1, 2), (1, 3), (2, 3)]\n"
     ]
    }
   ],
   "source": [
    "#Itertools Module\n",
    "#itertools.chain\n",
    "from itertools import chain\n",
    "gen_1 = range(0, 5, 2)               # 0.. 2.. 4\n",
    "gen_2 = (i**2 for i in range(3, 6))  # 9.. 16.. 25\n",
    "iter_3 = [\"moo\", \"cow\"]\n",
    "iter_4 = \"him\"\n",
    "print(chain(gen_1, gen_2, iter_3, iter_4))\n",
    "print(list(chain(gen_1, gen_2, iter_3, iter_4)))\n",
    "#itertools.combinations (generates combinations of items from iterable)\n",
    "from itertools import combinations\n",
    "print(list(combinations([0,1,2,3],3)))\n",
    "print(list(combinations([0,1,2,3],2)))"
   ]
  },
  {
   "cell_type": "code",
   "execution_count": 27,
   "metadata": {},
   "outputs": [
    {
     "name": "stdout",
     "output_type": "stream",
     "text": [
      "0.2\n",
      "[(0.1, 0.010000000000000002), (0.3, 0.09), (0.6, 0.36), (0.9, 0.81)]\n"
     ]
    },
    {
     "data": {
      "text/plain": [
       "[(0.1, 0.010000000000000002), (0.3, 0.09), (0.6, 0.36), (0.9, 0.81)]"
      ]
     },
     "execution_count": 27,
     "metadata": {},
     "output_type": "execute_result"
    }
   ],
   "source": [
    "#Excercise 1\n",
    "from itertools import combinations\n",
    "count = 0\n",
    "count1 = 0\n",
    "for i in combinations([\"apples\", \"bananas\", \"pears\", \"pears\", \"oranges\"], 2):\n",
    "    if (i == (\"apples\", \"pears\")):\n",
    "        count+=1\n",
    "        count1+=1\n",
    "    else:\n",
    "        count1+=1\n",
    "print(count/count1)\n",
    "#other solution\n",
    "from itertools import combinations\n",
    "ls = [\"apples\", \"bananas\", \"pears\", \"pears\", \"oranges\"]\n",
    "comb_ls = list(combinations(ls, 2))\n",
    "comb_ls.count((\"apples\", \"pears\")) / len(comb_ls)\n",
    "#Excercise 2\n",
    "x_vals = [0.1,0.3,0.6,0.9]\n",
    "y_gen = [i**2 for i in x_vals]\n",
    "print(list(zip(x_vals, y_gen)))\n",
    "#other solution\n",
    "x_vals = [0.1, 0.3, 0.6, 0.9]\n",
    "[(x, x**2) for x in x_vals]\n"
   ]
  }
 ],
 "metadata": {
  "kernelspec": {
   "display_name": "base",
   "language": "python",
   "name": "python3"
  },
  "language_info": {
   "codemirror_mode": {
    "name": "ipython",
    "version": 3
   },
   "file_extension": ".py",
   "mimetype": "text/x-python",
   "name": "python",
   "nbconvert_exporter": "python",
   "pygments_lexer": "ipython3",
   "version": "3.9.13"
  },
  "orig_nbformat": 4,
  "vscode": {
   "interpreter": {
    "hash": "caca2e1f2cf956f3f423d6a7dbff1718e7ac4852b47e537eb119e8f271864121"
   }
  }
 },
 "nbformat": 4,
 "nbformat_minor": 2
}
