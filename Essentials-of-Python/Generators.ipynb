{
 "cells": [
  {
   "cell_type": "code",
   "execution_count": 16,
   "metadata": {},
   "outputs": [],
   "source": [
    "#Generator is a special iterator, stores instructions on how to generate members\n",
    "#Generator does not store any items\n",
    "#***Generator function is to produce a long sequence of items without storing them***\n"
   ]
  },
  {
   "cell_type": "code",
   "execution_count": 18,
   "metadata": {},
   "outputs": [
    {
     "name": "stdout",
     "output_type": "stream",
     "text": [
      "2 3 4 5 6 -------------\n",
      "0 1 2 3 4 -------------\n",
      "10 9 8 7 6 5 4 3 2 1 "
     ]
    }
   ],
   "source": [
    "#Range, start stop, step\n",
    "#range generates corresponding sequence of ints\n",
    "for i in range(2,7):\n",
    "    print(i, end = \" \")\n",
    "print(\"-------------\")\n",
    "for i in range(5):\n",
    "    print(i, end = \" \")\n",
    "print(\"-------------\")\n",
    "for i in range(10,0, -1):\n",
    "    print(i ,end=\" \")"
   ]
  },
  {
   "cell_type": "code",
   "execution_count": 32,
   "metadata": {},
   "outputs": [
    {
     "name": "stdout",
     "output_type": "stream",
     "text": [
      "0.0 0.5 14.5 16.0 (0, 0, 0) (1, 1, 1) (29, 841, 24389) (32, 1024, 32768) apple apple apple pie pie pie "
     ]
    },
    {
     "data": {
      "text/plain": [
       "[(0, 2), (1, 3), (2, 4), (4, 6), (5, 7)]"
      ]
     },
     "execution_count": 32,
     "metadata": {},
     "output_type": "execute_result"
    }
   ],
   "source": [
    "#Generator comprehensions \n",
    "#(<expression> for <var> in <iterable> if <condition>) is \n",
    "#for <var> in <iterable>:\n",
    " #   if bool(<condition>):\n",
    "  #      yield <expression>\n",
    "even_gen = (i for i in range(100) if i%2 == 0)#if condition is optional\n",
    "example_gen = (i/2 for i in [0,1,29, 32])\n",
    "for item in example_gen:\n",
    "    print(item, end = \" \")\n",
    "\n",
    "example_gen = ((i, i**2, i**3) for i in [0,1,29, 32])\n",
    "for item in example_gen:\n",
    "    print(item, end = \" \")\n",
    "\n",
    "apple_gen = ((\"apple\" if i < 3 else \"pie\") for i in range(6))\n",
    "for i in apple_gen:\n",
    "    print(i, end = \" \")\n",
    "\n",
    "#excercise\n",
    "excercise_gen = ((i, i+2) for i in range(6) if i != 3)\n",
    "list(excercise_gen)\n",
    "\n"
   ]
  },
  {
   "cell_type": "code",
   "execution_count": 44,
   "metadata": {},
   "outputs": [
    {
     "name": "stdout",
     "output_type": "stream",
     "text": [
      "328350\n",
      "0\n",
      "True\n",
      "False\n"
     ]
    }
   ],
   "source": [
    "#Since you can't store generates, you cannot inspect it like sequences\n",
    "#you can't len(gen) or gen[2]\n",
    "#You can consume generators though\n",
    "gen = (i**2 for i in range(100))\n",
    "print(sum(gen))\n",
    "print(sum(gen)) #generator is exhausted and is already consumed\n",
    "#Checking for membership in the generator also consumes\n",
    "newgen = (i**2 for i in range(100))\n",
    "print(9 in newgen)\n",
    "print(9 in newgen)"
   ]
  },
  {
   "cell_type": "code",
   "execution_count": 46,
   "metadata": {},
   "outputs": [
    {
     "data": {
      "text/plain": [
       "200"
      ]
     },
     "execution_count": 46,
     "metadata": {},
     "output_type": "execute_result"
    }
   ],
   "source": [
    "#Chaning Generators\n",
    "gen_1 = (i**2 for i in [-20, -10, 0, 10, 20])\n",
    "gen_2 = (j for j in gen_1 if abs(j) <= 150) #iterates through gen_1\n",
    "sum(gen_2)"
   ]
  },
  {
   "cell_type": "code",
   "execution_count": 53,
   "metadata": {},
   "outputs": [
    {
     "name": "stdout",
     "output_type": "stream",
     "text": [
      "328350\n",
      "328350\n",
      "[0, 3, 6, 9, 12]\n",
      "True\n"
     ]
    }
   ],
   "source": [
    "#Generators on the fly\n",
    "yomom = (i**2 for i in range(100))\n",
    "print(sum(yomom))\n",
    "#--equals--\n",
    "print(sum(i**2 for i in range(100)))\n",
    "\n",
    "print(list(i*3 for i in range(5)))\n",
    "print(all(i < 10 for i in [1,2,5,7]))"
   ]
  },
  {
   "cell_type": "code",
   "execution_count": 2,
   "metadata": {},
   "outputs": [
    {
     "name": "stdout",
     "output_type": "stream",
     "text": [
      "0.5\n",
      "1.0\n",
      "1.5\n"
     ]
    }
   ],
   "source": [
    "#Iterations over gens using next\n",
    "short_gen = (i/2 for i in [1,2,3])\n",
    "print(next(short_gen))\n",
    "print(next(short_gen))\n",
    "print(next(short_gen))\n",
    "#------------Iterators vs Iterables--------------\n",
    "#Iterators store current state of iteration and all iterators are iterables\n",
    "#Iterable is an object that can be iterated over (sequences are iterables, not iterators)\n",
    "#You can only call next() for iterators"
   ]
  },
  {
   "cell_type": "code",
   "execution_count": 15,
   "metadata": {},
   "outputs": [
    {
     "name": "stdout",
     "output_type": "stream",
     "text": [
      "[0, 1, 4, 9, 16, 25, 36, 49, 64, 81]\n",
      "['Python', 'Organs']\n"
     ]
    },
    {
     "data": {
      "text/plain": [
       "(0, 1, 4, 9, 16)"
      ]
     },
     "execution_count": 15,
     "metadata": {},
     "output_type": "execute_result"
    }
   ],
   "source": [
    "# List and Tuple Comprehensions\n",
    "print([i**2 for i in range(10)])\n",
    "words = ['Python', 'Like', 'I', 'Mean', 'Organs']\n",
    "words_with_o = [i for i in words if \"o\" in i.lower()]\n",
    "print(words_with_o)\n",
    "tuple(i**2 for i in range(5))"
   ]
  },
  {
   "cell_type": "code",
   "execution_count": 17,
   "metadata": {},
   "outputs": [
    {
     "data": {
      "text/plain": [
       "[[0, 0, 0, 0], [0, 0, 0, 0], [0, 0, 0, 0]]"
      ]
     },
     "execution_count": 17,
     "metadata": {},
     "output_type": "execute_result"
    }
   ],
   "source": [
    "#Nested Comprehensions (used sparingly)\n",
    "[[0 for i in range(4)] for i in range(3)]\n"
   ]
  },
  {
   "cell_type": "code",
   "execution_count": 31,
   "metadata": {},
   "outputs": [
    {
     "name": "stdout",
     "output_type": "stream",
     "text": [
      "['hello', 'hello', 'hello', 'hello', 'hello', 'hello', 'hello', 'hello', 'hello', 'hello', 'hello', 'hello', 'hello', 'hello', 'hello', 'hello', 'hello', 'hello', 'hello', 'hello', 'hello', 'hello', 'hello', 'hello', 'hello', 'hello', 'hello', 'hello', 'hello', 'hello', 'hello', 'hello', 'hello', 'hello', 'hello', 'hello', 'hello', 'hello', 'hello', 'hello', 'hello', 'hello', 'hello', 'hello', 'hello', 'hello', 'hello', 'hello', 'hello', 'hello', 'hello', 'hello', 'hello', 'hello', 'hello', 'hello', 'hello', 'hello', 'hello', 'hello', 'hello', 'hello', 'hello', 'hello', 'hello', 'hello', 'hello', 'hello', 'hello', 'hello', 'hello', 'hello', 'hello', 'hello', 'hello', 'hello', 'hello', 'hello', 'hello', 'hello', 'hello', 'hello', 'hello', 'hello', 'hello', 'hello', 'hello', 'hello', 'hello', 'hello', 'hello', 'hello', 'hello', 'hello', 'hello', 'hello', 'hello', 'hello', 'hello', 'hello']\n",
      "['hello', 'goodbye', 'hello', 'goodbye', 'hello', 'goodbye', 'hello', 'goodbye', 'hello', 'goodbye']\n",
      "(3.2, 2.4, 99.8)\n",
      "[0, 0, 0, 1, 1, 0, 0, 0, 1, 0]\n"
     ]
    }
   ],
   "source": [
    "#Excercises\n",
    "print([\"hello\" for i in range(100)])\n",
    "\n",
    "print([(\"hello\" if i%2 == 0 else \"goodbye\") for i in range(10)])\n",
    "\n",
    "string = \"3.2, 2.4, 99.8\"\n",
    "print(tuple(float(i) for i in string.split(\",\")))\n",
    "\n",
    "print([((1 if i == \"o\" else 0)) for i in \"Hello.How Are You?\" if i.islower()])"
   ]
  }
 ],
 "metadata": {
  "kernelspec": {
   "display_name": "base",
   "language": "python",
   "name": "python3"
  },
  "language_info": {
   "codemirror_mode": {
    "name": "ipython",
    "version": 3
   },
   "file_extension": ".py",
   "mimetype": "text/x-python",
   "name": "python",
   "nbconvert_exporter": "python",
   "pygments_lexer": "ipython3",
   "version": "3.9.13"
  },
  "orig_nbformat": 4,
  "vscode": {
   "interpreter": {
    "hash": "caca2e1f2cf956f3f423d6a7dbff1718e7ac4852b47e537eb119e8f271864121"
   }
  }
 },
 "nbformat": 4,
 "nbformat_minor": 2
}
