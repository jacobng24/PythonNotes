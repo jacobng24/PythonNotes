{
 "cells": [
  {
   "attachments": {},
   "cell_type": "markdown",
   "metadata": {},
   "source": [
    "SETS\n",
    "- unordere collection of unique objects\n",
    "- Useful for\n",
    "    - Filtering out \"reapeat\" objects\n",
    "    - Checking for membership as O(1)\n",
    "   - Efficient comparison of two sets\n",
    "- Set can only store immutable objects\n",
    "- NO MECHANISM FOR RETRIEVING A SINGLE ITEM FROM SET"
   ]
  },
  {
   "cell_type": "code",
   "execution_count": 7,
   "metadata": {},
   "outputs": [
    {
     "name": "stdout",
     "output_type": "stream",
     "text": [
      "{False, 1, 3.4, (1, 2, 3), 'apple'}\n",
      "{0, 1, 4, 16}\n",
      "<class 'set'>\n",
      "{0, 1, 2, 3}\n",
      "set()\n"
     ]
    }
   ],
   "source": [
    "#Create a set(same notation but no : like dict)\n",
    "print({1,3.4,\"apple\", False, (1,2,3)})\n",
    "print({i**2 for i in range(5) if i != 3})\n",
    "print(type({2,4,6}))\n",
    "print(set(range(4)))\n",
    "print(set()) #{} creates empty dict"
   ]
  },
  {
   "cell_type": "code",
   "execution_count": 16,
   "metadata": {},
   "outputs": [
    {
     "name": "stdout",
     "output_type": "stream",
     "text": [
      "{1, 2, 'moo'}\n",
      "{1, 2, 3}\n"
     ]
    },
    {
     "data": {
      "text/plain": [
       "{'a', 'c', 'e', 'h', 'i', 'n', 't'}"
      ]
     },
     "execution_count": 16,
     "metadata": {},
     "output_type": "execute_result"
    }
   ],
   "source": [
    "#redundant items ignored\n",
    "x = [1,2,1,2,1,\"moo\",\"moo\"]\n",
    "print(set(x))\n",
    "print({1,2,3,1,1,1})\n",
    "\n",
    "{i.lower() for i in \"The cat in the hat\" if i.isalpha()}"
   ]
  },
  {
   "cell_type": "code",
   "execution_count": 38,
   "metadata": {},
   "outputs": [
    {
     "name": "stdout",
     "output_type": "stream",
     "text": [
      "True\n"
     ]
    },
    {
     "data": {
      "text/plain": [
       "['c', 'b', 'a']"
      ]
     },
     "execution_count": 38,
     "metadata": {},
     "output_type": "execute_result"
    }
   ],
   "source": [
    "#Set operations O(1)\n",
    "print(2 in {1,2,3})\n",
    "[i for i in {\"a\",\"b\",\"c\"}] #iteration order is random\n"
   ]
  },
  {
   "cell_type": "code",
   "execution_count": 40,
   "metadata": {},
   "outputs": [
    {
     "data": {
      "text/plain": [
       "{'a', 'b', 'c', 'd', 'e'}"
      ]
     },
     "execution_count": 40,
     "metadata": {},
     "output_type": "execute_result"
    }
   ],
   "source": [
    "#set comparison\n",
    "x = {\"a\", \"b\", \"c\", \"d\"}\n",
    "y = {\"a\", \"b\", \"e\"}\n",
    "x | y # or x.union(y)"
   ]
  },
  {
   "cell_type": "code",
   "execution_count": 44,
   "metadata": {},
   "outputs": [
    {
     "data": {
      "text/plain": [
       "False"
      ]
     },
     "execution_count": 44,
     "metadata": {},
     "output_type": "execute_result"
    }
   ],
   "source": [
    "# intersection: items in both x and y\n",
    "x & y  # or x.intersection(y)"
   ]
  },
  {
   "cell_type": "code",
   "execution_count": 43,
   "metadata": {},
   "outputs": [
    {
     "data": {
      "text/plain": [
       "{'c', 'd'}"
      ]
     },
     "execution_count": 43,
     "metadata": {},
     "output_type": "execute_result"
    }
   ],
   "source": [
    "# difference: items in x but not in y\n",
    "x - y  # or x.difference(y)\n",
    "{'c', 'd'}\n"
   ]
  },
  {
   "cell_type": "code",
   "execution_count": 46,
   "metadata": {},
   "outputs": [
    {
     "data": {
      "text/plain": [
       "{'c', 'd', 'e'}"
      ]
     },
     "execution_count": 46,
     "metadata": {},
     "output_type": "execute_result"
    }
   ],
   "source": [
    "# symmetric difference: in x or y, but not in both\n",
    "x ^ y  # or x.symmetric_difference"
   ]
  },
  {
   "cell_type": "code",
   "execution_count": 47,
   "metadata": {},
   "outputs": [
    {
     "data": {
      "text/plain": [
       "True"
      ]
     },
     "execution_count": 47,
     "metadata": {},
     "output_type": "execute_result"
    }
   ],
   "source": [
    "# check if set_1 is a superset of set_2\n",
    "{1, 2, 3, 4} >= {1, 2}\n",
    "True"
   ]
  },
  {
   "cell_type": "code",
   "execution_count": 48,
   "metadata": {},
   "outputs": [
    {
     "data": {
      "text/plain": [
       "False"
      ]
     },
     "execution_count": 48,
     "metadata": {},
     "output_type": "execute_result"
    }
   ],
   "source": [
    "# check if set_1 and set_2 are equivalent sets\n",
    "{1, 2, 3, 4} == {1, 2}\n",
    "False\n"
   ]
  },
  {
   "cell_type": "code",
   "execution_count": 64,
   "metadata": {},
   "outputs": [
    {
     "data": {
      "text/plain": [
       "frozenset({1, 2, 3, 'b', 'c', 'd', 'dog'})"
      ]
     },
     "execution_count": 64,
     "metadata": {},
     "output_type": "execute_result"
    }
   ],
   "source": [
    "# Sets are mutable\n",
    "x.add(\"dog\")\n",
    "x.update([1,2,3])\n",
    "# x.remove(\"a\") sometimes won't work because once x changes it stays\n",
    "x\n",
    "# frozen set is an immutable version of Python set\n",
    "frozenset(x)"
   ]
  },
  {
   "cell_type": "code",
   "execution_count": 70,
   "metadata": {},
   "outputs": [
    {
     "data": {
      "text/plain": [
       "['Bohr', 'Fermi', 'Gauss']"
      ]
     },
     "execution_count": 70,
     "metadata": {},
     "output_type": "execute_result"
    }
   ],
   "source": [
    "#Excercises\n",
    "classA = [\"Bohr\", \"Curie\", \"David\", \"Euler\", \"Fermi\", \"Feynman\", \"Gauss\", \"Heisenberg\", \"Noether\"]\n",
    "classB = [\"Bohm\", \"Bohr\", \"Einstein\", \"Fermi\", \"Gauss\", \"Hopper\", \"Montalcini\"]\n",
    "sorted(set(classA) & set(classB))"
   ]
  },
  {
   "cell_type": "code",
   "execution_count": 80,
   "metadata": {},
   "outputs": [
    {
     "name": "stdout",
     "output_type": "stream",
     "text": [
      "1.5\n",
      "2.3\n",
      "5.1\n",
      "100.2\n",
      "100.2\n",
      "(1.5, 2.3, 5.1, 100.2)\n"
     ]
    }
   ],
   "source": [
    "#Named Tuple\n",
    "from collections import namedtuple\n",
    "space = namedtuple(\"space_time\", ['x','y','z','t'])\n",
    "r = space(1.5,2.3,5.1,100.2)\n",
    "print(r.x)\n",
    "print(r.y)\n",
    "print(r.z)\n",
    "print(r.t)\n",
    "#index and slices\n",
    "print(r[3])\n",
    "print(r[:])\n"
   ]
  },
  {
   "cell_type": "code",
   "execution_count": 97,
   "metadata": {},
   "outputs": [
    {
     "data": {
      "text/plain": [
       "defaultdict(list, {})"
      ]
     },
     "execution_count": 97,
     "metadata": {},
     "output_type": "execute_result"
    }
   ],
   "source": [
    "#Default Dict\n",
    "#allows you to specify a Python value that will be used as default value\n",
    "from collections import defaultdict\n",
    "example = defaultdict(list)\n",
    "example"
   ]
  },
  {
   "cell_type": "code",
   "execution_count": 101,
   "metadata": {},
   "outputs": [
    {
     "name": "stdout",
     "output_type": "stream",
     "text": [
      "[]\n",
      "defaultdict(<class 'list'>, {'apple': []})\n"
     ]
    },
    {
     "data": {
      "text/plain": [
       "defaultdict(list, {'Susan': [21]})"
      ]
     },
     "execution_count": 101,
     "metadata": {},
     "output_type": "execute_result"
    }
   ],
   "source": [
    "print(example['apple']) #initializes value as []\n",
    "print(example)\n",
    "\n",
    "#Example of default dict:\n",
    "gradebook = defaultdict(list)\n",
    "gradebook[\"Susan\"].append(21)\n",
    "gradebook"
   ]
  },
  {
   "cell_type": "code",
   "execution_count": 113,
   "metadata": {},
   "outputs": [
    {
     "name": "stdout",
     "output_type": "stream",
     "text": [
      "['the', 'cat', 'in', 'the', 'hat']\n",
      "Counter({'the': 2, 'cat': 1, 'in': 1, 'hat': 1})\n",
      "Counter({'the': 4, 'in': 2, 'cat': 1, 'hat': 1, 'apple': 1, 'tree': 1})\n",
      "[('the', 4), ('in', 2)]\n",
      "1\n"
     ]
    }
   ],
   "source": [
    "#Counter (accepts any iterable of immutables)\n",
    "#Tallies unique objects \n",
    "from collections import Counter\n",
    "text1 = \"The cat in the hat\"\n",
    "text1 = text1.lower().split()\n",
    "print(text1)\n",
    "word = Counter(text1)\n",
    "print(word)\n",
    "\n",
    "text2 = \"The apple in the tree\"\n",
    "text2 = text2.lower().split()\n",
    "word.update(text2)\n",
    "print(word)\n",
    "print(word.most_common(2)) #Gets 2 most common words\n",
    "print(word[\"tree\"]) #Prints count for tree"
   ]
  },
  {
   "cell_type": "code",
   "execution_count": 114,
   "metadata": {},
   "outputs": [
    {
     "data": {
      "text/plain": [
       "deque([0, 1, 2, 3])"
      ]
     },
     "execution_count": 114,
     "metadata": {},
     "output_type": "execute_result"
    }
   ],
   "source": [
    "#Deque\n",
    "#O(1) when mutating beginning or end  (list is O(n))\n",
    "#O(n) when accessing middle of the deque (O(1) for lists and tuples)\n",
    "from collections import deque \n",
    "deque1 = deque([1,2,3])\n",
    "deque1.appendleft(0)\n",
    "deque1"
   ]
  }
 ],
 "metadata": {
  "kernelspec": {
   "display_name": "base",
   "language": "python",
   "name": "python3"
  },
  "language_info": {
   "codemirror_mode": {
    "name": "ipython",
    "version": 3
   },
   "file_extension": ".py",
   "mimetype": "text/x-python",
   "name": "python",
   "nbconvert_exporter": "python",
   "pygments_lexer": "ipython3",
   "version": "3.9.13"
  },
  "orig_nbformat": 4,
  "vscode": {
   "interpreter": {
    "hash": "caca2e1f2cf956f3f423d6a7dbff1718e7ac4852b47e537eb119e8f271864121"
   }
  }
 },
 "nbformat": 4,
 "nbformat_minor": 2
}
