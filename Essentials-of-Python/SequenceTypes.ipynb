{
 "cells": [
  {
   "attachments": {},
   "cell_type": "markdown",
   "metadata": {},
   "source": [
    "Tuples"
   ]
  },
  {
   "cell_type": "code",
   "execution_count": 3,
   "metadata": {},
   "outputs": [
    {
     "name": "stdout",
     "output_type": "stream",
     "text": [
      "<class 'tuple'>\n"
     ]
    },
    {
     "data": {
      "text/plain": [
       "True"
      ]
     },
     "execution_count": 3,
     "metadata": {},
     "output_type": "execute_result"
    }
   ],
   "source": [
    "#tuples use parentheses and are immutable\n",
    "x = (1, \"a\", 2)\n",
    "#you cannot make a tuple with one entry\n",
    "y = (3,)\n",
    "print(type(x))\n",
    "isinstance (x, (tuple, list, str)) #checks multiple types at once"
   ]
  },
  {
   "cell_type": "code",
   "execution_count": 5,
   "metadata": {},
   "outputs": [
    {
     "name": "stdout",
     "output_type": "stream",
     "text": [
      "[2, 4, 8]\n",
      "(2, 4, 8)\n"
     ]
    }
   ],
   "source": [
    "#can create a tuple out of other sequence\n",
    "x = [2, 4, 8]\n",
    "y = tuple(x)\n",
    "print(x)\n",
    "print(y)\n"
   ]
  },
  {
   "cell_type": "code",
   "execution_count": 11,
   "metadata": {},
   "outputs": [
    {
     "name": "stdout",
     "output_type": "stream",
     "text": [
      "True\n",
      "False\n",
      "True\n",
      "False\n",
      "True\n"
     ]
    }
   ],
   "source": [
    "#use 'in' and 'not in' to check membership\n",
    "print(2 in x)\n",
    "print(0 in x)\n",
    "print(\"cat\" in \"the cat\")\n",
    "#cannot test in other sequences\n",
    "print([1,2] in [1,2,3,4])\n",
    "print([1,2] in [None, [1,2]])"
   ]
  },
  {
   "cell_type": "code",
   "execution_count": 16,
   "metadata": {},
   "outputs": [
    {
     "name": "stdout",
     "output_type": "stream",
     "text": [
      "[1, 2, 3, 4]\n",
      "cat\n",
      "catcatcat\n",
      "(1, 5, 1, 5, 1, 5)\n"
     ]
    }
   ],
   "source": [
    "#Concatenation of Sequences\n",
    "print([1,2] + [3,4])\n",
    "print(\"c\" + \"at\")\n",
    "print(\"cat\" * 3)\n",
    "print((1,5) * 3)"
   ]
  },
  {
   "cell_type": "code",
   "execution_count": 23,
   "metadata": {},
   "outputs": [
    {
     "name": "stdout",
     "output_type": "stream",
     "text": [
      "3\n",
      "2\n",
      "2\n",
      "2\n",
      "2\n"
     ]
    }
   ],
   "source": [
    "#length is len()\n",
    "print(len(\"dog\"))\n",
    "print(len([\"dog\", \"dog\"]))\n",
    "#index is .index()\n",
    "print(\"cat cat cat\".index(\"t\"))\n",
    "#index doesn't look inside sequences (it sees 1, 2, \"moo\")\n",
    "print([1, 2, \"moo\"].index(\"moo\"))\n",
    "#.count counts occurences and doesn't look inside sequences\n",
    "print(\"the cat\".count(\"t\"))"
   ]
  },
  {
   "cell_type": "code",
   "execution_count": 29,
   "metadata": {},
   "outputs": [
    {
     "name": "stdout",
     "output_type": "stream",
     "text": [
      "['Yo', 23, 1, 2]\n"
     ]
    }
   ],
   "source": [
    "#excercise\n",
    "tuple([True,None, 22])\n",
    "x = [\"Yo\", 22, 23, 1, 2]\n",
    "x.pop(1)\n",
    "print(x)"
   ]
  },
  {
   "cell_type": "code",
   "execution_count": 33,
   "metadata": {},
   "outputs": [
    {
     "name": "stdout",
     "output_type": "stream",
     "text": [
      "[1, 2]\n",
      "1 1\n",
      "4\n",
      "False\n"
     ]
    }
   ],
   "source": [
    "#slicing \n",
    "print(x[0:2]) #2 is excluded\n",
    "#index also has negative indeces\n",
    "#+---+---+---+---+---+---+\n",
    "#| P | y | t | h | o | n |\n",
    "#+---+---+---+---+---+---+\n",
    "# 0   1   2   3   4   5\n",
    "# -6  -5  -4  -3  -2  -1\n",
    "# Negative indexes count up from 6 (length of word) to -1\n",
    "x = [1, 2, 3, 4] \n",
    "print(x[0], x[-4])\n",
    "print(x[-1])\n",
    "print((True,False)[-1])"
   ]
  },
  {
   "cell_type": "code",
   "execution_count": 43,
   "metadata": {},
   "outputs": [
    {
     "name": "stdout",
     "output_type": "stream",
     "text": [
      "abcd\n",
      "ace\n",
      "abcdefg\n",
      "aceg\n",
      "gfedcba\n",
      "fg\n",
      "abcde\n"
     ]
    }
   ],
   "source": [
    "#Slicing For real !!!\n",
    "#seq[start:stop:step] stop is excluded, step allows to take every item/other item\n",
    "seq = \"abcdefg\"\n",
    "print(seq[0:4:1])\n",
    "print(seq[0:5:2])\n",
    "#default values are 0:len(sequ):1\n",
    "print(seq[:]) #0:7:1\n",
    "print(seq[::2])#[0,7,2]\n",
    "#negative step reverses sequence\n",
    "print(seq[::-1])\n",
    "#Slice returns last two values of sequence\n",
    "print(seq[-2:])\n",
    "#Slicce returns all but last two\n",
    "print(seq[:-2])\n"
   ]
  },
  {
   "cell_type": "code",
   "execution_count": 49,
   "metadata": {},
   "outputs": [
    {
     "name": "stdout",
     "output_type": "stream",
     "text": [
      "abc\n",
      "gfedcba\n"
     ]
    }
   ],
   "source": [
    "#Built in slice\n",
    "seq = \"abcdefg\"\n",
    "print(seq[slice(0,3,1)])\n",
    "#slice as variable\n",
    "reverse = slice(None, None, -1)\n",
    "print(seq[reverse])"
   ]
  },
  {
   "cell_type": "code",
   "execution_count": 71,
   "metadata": {},
   "outputs": [
    {
     "name": "stdout",
     "output_type": "stream",
     "text": [
      "0\n",
      "8\n",
      "(2, 4, 6)\n",
      "(4,)\n",
      "4\n",
      "4\n",
      "(6, 8)\n",
      "(2, 6)\n",
      "(8, 6, 4, 2)\n",
      "\n"
     ]
    }
   ],
   "source": [
    "#Excercise\n",
    "x = (0,2,4,6,8)\n",
    "print(x[0])\n",
    "print(x[-1])\n",
    "print(x[1:4])\n",
    "print(x[2:3])\n",
    "print(x[2])\n",
    "print(x[-3])\n",
    "print(x[-2:5])\n",
    "print(x[1:4:2])\n",
    "print(x[slice(None, 0, -1)])\n",
    "print(\"\")\n"
   ]
  },
  {
   "cell_type": "code",
   "execution_count": 78,
   "metadata": {},
   "outputs": [
    {
     "name": "stdout",
     "output_type": "stream",
     "text": [
      "boopeeboopeeboopeeboopeeboopee\n",
      "[5, 4, 3, 2]\n",
      "[5, 4, 3, 2]\n"
     ]
    }
   ],
   "source": [
    "#Excercise 2\n",
    "y = \"blogosphere\"\n",
    "str = y[slice(None, None, 2)]\n",
    "print(str*5)\n",
    "seq = [2,3,4,5]\n",
    "print(seq[slice(None,None,-1)])\n",
    "print(seq[::-1])\n"
   ]
  }
 ],
 "metadata": {
  "kernelspec": {
   "display_name": "base",
   "language": "python",
   "name": "python3"
  },
  "language_info": {
   "codemirror_mode": {
    "name": "ipython",
    "version": 3
   },
   "file_extension": ".py",
   "mimetype": "text/x-python",
   "name": "python",
   "nbconvert_exporter": "python",
   "pygments_lexer": "ipython3",
   "version": "3.9.13"
  },
  "orig_nbformat": 4,
  "vscode": {
   "interpreter": {
    "hash": "caca2e1f2cf956f3f423d6a7dbff1718e7ac4852b47e537eb119e8f271864121"
   }
  }
 },
 "nbformat": 4,
 "nbformat_minor": 2
}
