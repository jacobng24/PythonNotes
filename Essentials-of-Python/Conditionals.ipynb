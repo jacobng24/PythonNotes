{
 "cells": [
  {
   "cell_type": "code",
   "execution_count": 8,
   "metadata": {},
   "outputs": [
    {
     "name": "stdout",
     "output_type": "stream",
     "text": [
      "2.25\n",
      "codeakljsnkjasn\n"
     ]
    }
   ],
   "source": [
    "#else if is elif\n",
    "x = 2\n",
    "if x > 5:\n",
    "    x +=1\n",
    "elif x > 3:\n",
    "    x+=0.5\n",
    "elif x > 1:\n",
    "    x+=0.25\n",
    "else:\n",
    "    x = 0\n",
    "print(x)\n",
    "my_file = \"codeakljsnkjasn.pyasijdnasdinj\"\n",
    "#Conditional Excercises \n",
    "if \".\" in my_file:\n",
    "    my_index = my_file.index(\".\")\n",
    "    filename = my_file[:my_index]\n",
    "else:\n",
    "    filename = my_file\n",
    "print(filename)\n"
   ]
  },
  {
   "cell_type": "code",
   "execution_count": 4,
   "metadata": {},
   "outputs": [
    {
     "name": "stdout",
     "output_type": "stream",
     "text": [
      "negative\n"
     ]
    }
   ],
   "source": [
    "#inline if-else\n",
    "num = -1\n",
    "sign = \"positive\" if num >=0 else \"negative\"\n",
    "print(sign)"
   ]
  },
  {
   "cell_type": "code",
   "execution_count": null,
   "metadata": {},
   "outputs": [],
   "source": [
    "#Short circuiting\n",
    "# Left from right, if x is string, if is false and therefore doesn't run x.isupper\n",
    "if isinstance(x, str) and x.isupper():\n",
    "    # do something with the uppercased string"
   ]
  }
 ],
 "metadata": {
  "kernelspec": {
   "display_name": "base",
   "language": "python",
   "name": "python3"
  },
  "language_info": {
   "codemirror_mode": {
    "name": "ipython",
    "version": 3
   },
   "file_extension": ".py",
   "mimetype": "text/x-python",
   "name": "python",
   "nbconvert_exporter": "python",
   "pygments_lexer": "ipython3",
   "version": "3.9.13"
  },
  "orig_nbformat": 4,
  "vscode": {
   "interpreter": {
    "hash": "caca2e1f2cf956f3f423d6a7dbff1718e7ac4852b47e537eb119e8f271864121"
   }
  }
 },
 "nbformat": 4,
 "nbformat_minor": 2
}
