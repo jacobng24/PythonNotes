{
 "cells": [
  {
   "attachments": {},
   "cell_type": "markdown",
   "metadata": {},
   "source": [
    "Scope of Functions:\n",
    " - Basically, variables out of range from Java\n",
    " - File Scope can be accessed by file\n",
    " - Restricted scope's access is restricted\n",
    " - However, diff rules \n",
    "    - Variables called inside (If, else, while, and for) has file scope\n",
    "    - This is unlike C++ where these callings would have \n",
    "\n",
    "Precedence of Scoping and Variable Shadowing:\n",
    " - If file-scope and function-scope var share same name\n",
    " - Python gives precedence to var with most restricted scope\n"
   ]
  },
  {
   "cell_type": "code",
   "execution_count": 3,
   "metadata": {},
   "outputs": [
    {
     "name": "stdout",
     "output_type": "stream",
     "text": [
      "(1, 5)\n"
     ]
    }
   ],
   "source": [
    "x = 1\n",
    "y = 2\n",
    "def f(x):\n",
    "    return y + x\n",
    "z = (x, f(3))\n",
    "print(z)"
   ]
  }
 ],
 "metadata": {
  "kernelspec": {
   "display_name": "base",
   "language": "python",
   "name": "python3"
  },
  "language_info": {
   "codemirror_mode": {
    "name": "ipython",
    "version": 3
   },
   "file_extension": ".py",
   "mimetype": "text/x-python",
   "name": "python",
   "nbconvert_exporter": "python",
   "pygments_lexer": "ipython3",
   "version": "3.9.13"
  },
  "orig_nbformat": 4,
  "vscode": {
   "interpreter": {
    "hash": "caca2e1f2cf956f3f423d6a7dbff1718e7ac4852b47e537eb119e8f271864121"
   }
  }
 },
 "nbformat": 4,
 "nbformat_minor": 2
}
