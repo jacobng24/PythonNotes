{
 "cells": [
  {
   "cell_type": "code",
   "execution_count": 12,
   "metadata": {},
   "outputs": [
    {
     "name": "stdout",
     "output_type": "stream",
     "text": [
      "5\n"
     ]
    }
   ],
   "source": [
    "#Function is defined through def \n",
    "#Example:\n",
    "def count_vowels(in_string):\n",
    "    \"\"\" Returns the number of vowels contained in `in_string`\"\"\"\n",
    "    num_vowels = 0\n",
    "    vowels = \"aeiouAEIOU\"\n",
    "\n",
    "    for char in in_string:\n",
    "        if char in vowels:\n",
    "            num_vowels += 1  # equivalent to num_vowels = num_vowels + 1\n",
    "    return num_vowels\n",
    "\n",
    "\n",
    "print(count_vowels(\"Hi my name is Ryan\"))\n",
    "#Excercise\n",
    "def count_even(numbers):\n",
    "    count = 0\n",
    "    for i in numbers:\n",
    "        if i%2 == 0:\n",
    "            count+=1\n",
    "    return count\n",
    "\n"
   ]
  },
  {
   "cell_type": "code",
   "execution_count": 14,
   "metadata": {},
   "outputs": [],
   "source": [
    "#Empty return statement returns None, you can also not specify a return\n",
    "# this function returns `None`\n",
    "# an \"empty\" return statement\n",
    "def f():\n",
    "    x = 1\n",
    "    return\n",
    "# this function returns `None`\n",
    "# return statement is omitted\n",
    "def f():\n",
    "    x = 1\n",
    "#Inline Functions\n",
    "def add_2(x):\n",
    "    return x + 2\n",
    "# can be rewritten as:\n",
    "def add_2(x): return x + 2"
   ]
  },
  {
   "cell_type": "code",
   "execution_count": 28,
   "metadata": {},
   "outputs": [
    {
     "name": "stdout",
     "output_type": "stream",
     "text": [
      "True\n",
      "True\n",
      "1\n",
      "2\n",
      "2\n"
     ]
    }
   ],
   "source": [
    "def is_bounded (x, lower, upper):\n",
    "    return lower <= x <= upper\n",
    "print(is_bounded(3,2,4))\n",
    "#feeding function too few or too many args will raise TypeError\n",
    "print(is_bounded(3, upper = 4, lower = 2)) #You can specify vars in the arg\n",
    "#If switching vars, make sure to define both\n",
    "\n",
    "#Default Valued Arguments\n",
    "def count_vowels(in_string, include_y=False): #default is false, can be specified to true\n",
    "    \"\"\" Returns the number of vowels contained in `in_string`\"\"\"\n",
    "    vowels = \"aeiouAEIOU\"\n",
    "    if include_y:\n",
    "        vowels += \"yY\"  # add \"y\" to vowels\n",
    "    return sum(1 for char in in_string if char in vowels)\n",
    "print(count_vowels(\"Happy\"))\n",
    "print(count_vowels (\"Happy\", True))\n",
    "print(count_vowels(include_y=True, in_string =\"Happy\"))\n",
    "#DEFAULT INPUT ARGUMENTS MUST COME AFTER POSITIONAL INPUT ARGUMENTS \n",
    "# this will raise a syntax error\n",
    "# def f(x, y, count=1, upper=2, z):\n",
    "   # return None\n",
    "\n",
    "#Excercise\n",
    "def max_or_min(x, y, mode=\"max\"):\n",
    "    if mode==\"max\":\n",
    "        return max(x, y)\n",
    "    elif mode ==\"min\":\n",
    "        return min(x, y)\n",
    "    else:\n",
    "        return None\n"
   ]
  },
  {
   "cell_type": "code",
   "execution_count": 45,
   "metadata": {},
   "outputs": [
    {
     "name": "stdout",
     "output_type": "stream",
     "text": [
      "()\n",
      "(1,)\n",
      "((0, 1), True, 'mother')\n",
      "x is:  1\n",
      "seq is:  (2, 3, 4)\n",
      "y is  5\n",
      "None\n",
      "x is:  cat\n",
      "seq is:  ()\n",
      "y is  dog\n",
      "None\n",
      "0\n"
     ]
    },
    {
     "data": {
      "text/plain": [
       "6"
      ]
     },
     "execution_count": 45,
     "metadata": {},
     "output_type": "execute_result"
    }
   ],
   "source": [
    "#Arbritray Number of args\n",
    "def f(*args): #*args takes any value\n",
    "    return args\n",
    "print(f())\n",
    "print(f(1))\n",
    "print(f((0,1),True, \"mother\"))\n",
    "def f(x, *seq, y):\n",
    "    print(\"x is: \", x)\n",
    "    print(\"seq is: \", seq)\n",
    "    print(\"y is \", y)\n",
    "    return None\n",
    "print(f(1,2,3,4, y=5)) #y has to be specified\n",
    "print(f(\"cat\", y=\"dog\"))\n",
    "#Excercise\n",
    "def g(*nums):\n",
    "    if len(nums) == 0:\n",
    "        return 0\n",
    "    sum = 0\n",
    "    for num in nums:\n",
    "        sum+=num\n",
    "    return sum/len(nums) \n",
    "print(g())\n",
    "def f(x, y, z):\n",
    "    return x + y + z\n",
    "\n",
    "f(1, 2, 3)\n",
    "6\n",
    "# `*` means: unpack the contents of [1, 2, 3]\n",
    "# passing each item as x, y, and z,\n",
    "# respectively\n",
    "f(*[1, 2, 3])  # equivalent to: f(1, 2, 3)\n",
    "6\n"
   ]
  },
  {
   "cell_type": "code",
   "execution_count": 7,
   "metadata": {},
   "outputs": [
    {
     "name": "stdout",
     "output_type": "stream",
     "text": [
      "x is:  1\n",
      "y is:  9\n",
      "kwargs is:  {'z': 3, 'k': 'hi'}\n",
      "None\n",
      "x is:  cat\n",
      "y is:  dog\n",
      "kwargs is:  {}\n",
      "None\n",
      "{'a': 1, 'b': 2, 'c': 3, 'd': 4}\n",
      "{'a': 2, 'umbrella': True, 'hi': 1, 'bye': 2}\n"
     ]
    }
   ],
   "source": [
    "#Keyword arguments arbritary\n",
    "def f(**kwargs):\n",
    "    #  All keyword arguments passed to `f` will be \"packed\" into a\n",
    "    #  dictionary that is assigned to the variable `kwargs`.\n",
    "    # `f()`  will assign `kwargs = {}` (an empty dictionary)\n",
    "    # `f(x=1, y=2, ...)` will assign `kwargs = {\"x\":1, \"y\":2, ...}`\n",
    "    return kwargs\n",
    "#Passed into dictionary\n",
    "\n",
    "def f(x, y=2, **kwargs):\n",
    "    print(\"x is: \", x)\n",
    "    print(\"y is: \", y)\n",
    "    print(\"kwargs is: \", kwargs)\n",
    "    return None\n",
    "print(f(1, y = 9, z=3, k=\"hi\"))\n",
    "print(f(\"cat\", y=\"dog\"))\n",
    "\n",
    "def print_kwargs(**args):\n",
    "    print(args)\n",
    "print_kwargs(a=1, b=2, c=3, d=4)\n",
    "\n",
    "some_dict = {\"hi\":1, \"bye\":2}\n",
    "# unpacking the key-value pairs of the dictionary\n",
    "# as keyword arguments and values, to the function\n",
    "print_kwargs(a=2, umbrella=True, **some_dict)"
   ]
  },
  {
   "cell_type": "code",
   "execution_count": 24,
   "metadata": {},
   "outputs": [
    {
     "name": "stdout",
     "output_type": "stream",
     "text": [
      "2\n",
      "2\n",
      "hello\n",
      "None\n",
      "that's a lot of vowels!\n",
      "6\n",
      "10\n"
     ]
    }
   ],
   "source": [
    "#Functions are Objects\n",
    "def count_vowels(in_string, include_y=False): #default is false, can be specified to true\n",
    "    \"\"\" Returns the number of vowels contained in `in_string`\"\"\"\n",
    "    vowels = \"aeiouAEIOU\"\n",
    "    if include_y:\n",
    "        vowels += \"yY\"  # add \"y\" to vowels\n",
    "    return sum(1 for char in in_string if char in vowels)\n",
    "\n",
    "\n",
    "var = count_vowels\n",
    "print(var(\"Hello\"))\n",
    "\n",
    "my_list = [count_vowels, print]\n",
    "for i in my_list:\n",
    "    print(i(\"hello\"))\n",
    "\n",
    "if count_vowels(\"pillow\") > 1:\n",
    "    print(\"that's a lot of vowels!\")\n",
    "print(sum(count_vowels(word, include_y=True) for word in [\"hi\", \"bye\", \"guy\", \"sigh\"]))\n",
    "\n",
    "def f(a, b, *c, d):\n",
    "    return a + b + len(c) + d\n",
    "\n",
    "\n",
    "print(f(1, 2, 3, 4, d=5))\n"
   ]
  },
  {
   "cell_type": "code",
   "execution_count": null,
   "metadata": {},
   "outputs": [],
   "source": []
  }
 ],
 "metadata": {
  "kernelspec": {
   "display_name": "base",
   "language": "python",
   "name": "python3"
  },
  "language_info": {
   "codemirror_mode": {
    "name": "ipython",
    "version": 3
   },
   "file_extension": ".py",
   "mimetype": "text/x-python",
   "name": "python",
   "nbconvert_exporter": "python",
   "pygments_lexer": "ipython3",
   "version": "3.9.13"
  },
  "orig_nbformat": 4,
  "vscode": {
   "interpreter": {
    "hash": "caca2e1f2cf956f3f423d6a7dbff1718e7ac4852b47e537eb119e8f271864121"
   }
  }
 },
 "nbformat": 4,
 "nbformat_minor": 2
}
