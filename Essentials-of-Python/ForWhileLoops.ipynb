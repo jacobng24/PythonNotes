{
 "cells": [
  {
   "cell_type": "code",
   "execution_count": 6,
   "metadata": {},
   "outputs": [
    {
     "name": "stdout",
     "output_type": "stream",
     "text": [
      "12.1\n",
      "a\n",
      "e\n",
      "i\n"
     ]
    }
   ],
   "source": [
    "# For loops syntax: for num in ():\n",
    "total = 0\n",
    "for num in (-22.0, 3.5, 8.1, -10, 0.5):\n",
    "    if num > 0:\n",
    "        total = total + num\n",
    "print(total)\n",
    "\n",
    "for num in (\"abcdefghij\"):\n",
    "    if num in \"aeiou\":\n",
    "        print(num)"
   ]
  },
  {
   "cell_type": "code",
   "execution_count": 16,
   "metadata": {},
   "outputs": [
    {
     "name": "stdout",
     "output_type": "stream",
     "text": [
      "x =  0 >> enter loop-body <<\n",
      "--reached end of loop-body--\n",
      "x =  1 >> enter loop-body <<\n",
      "--reached end of loop-body--\n",
      "x =  2 >> enter loop-body <<\n",
      "x =  2  continue...back to the top of the loop!\n",
      "x =  3 >> enter loop-body <<\n",
      "--reached end of loop-body--\n"
     ]
    }
   ],
   "source": [
    "#continue statement causes loop to be revisted immediately\n",
    "x=0\n",
    "while x < 4:\n",
    "    print(\"x = \", x, \">> enter loop-body <<\")\n",
    "    if x == 2:\n",
    "        print(\"x = \", x, \" continue...back to the top of the loop!\")\n",
    "        x += 1\n",
    "        continue\n",
    "    x += 1\n",
    "    print(\"--reached end of loop-body--\")\n",
    "\n",
    "\n",
    "            \n",
    "\n"
   ]
  },
  {
   "cell_type": "code",
   "execution_count": 1,
   "metadata": {},
   "outputs": [
    {
     "name": "stdout",
     "output_type": "stream",
     "text": [
      "502\n",
      "5\n",
      "3\n",
      "Rohan\n",
      "Rohan\n",
      "Rohan\n",
      "Rohan\n"
     ]
    }
   ],
   "source": [
    "#Excercise\n",
    "count = 0\n",
    "sum = 0\n",
    "x = (100, 103, 105, 200, 202, 57)\n",
    "while sum < 100 or count > 50:\n",
    "    for item in x:\n",
    "        if (item%2==0):\n",
    "            sum+=item\n",
    "    count+=1\n",
    "print(sum)\n",
    "# ----------------------------\n",
    "total = 0\n",
    "for item in [1, 3, 5]:\n",
    "    total = total + item\n",
    "\n",
    "print(item) #it is 5 because that is the last element the for loop accesses\n",
    "# ----------------------------\n",
    "x = [1, 2, 3, 4, 5]\n",
    "total = 0\n",
    "while x:\n",
    "    total = total + 1\n",
    "    if len(x) > 3:\n",
    "        x.pop()  # removes item from end of `x`\n",
    "    else:\n",
    "        break\n",
    "print(total)"
   ]
  }
 ],
 "metadata": {
  "kernelspec": {
   "display_name": "base",
   "language": "python",
   "name": "python3"
  },
  "language_info": {
   "codemirror_mode": {
    "name": "ipython",
    "version": 3
   },
   "file_extension": ".py",
   "mimetype": "text/x-python",
   "name": "python",
   "nbconvert_exporter": "python",
   "pygments_lexer": "ipython3",
   "version": "3.9.13"
  },
  "orig_nbformat": 4,
  "vscode": {
   "interpreter": {
    "hash": "caca2e1f2cf956f3f423d6a7dbff1718e7ac4852b47e537eb119e8f271864121"
   }
  }
 },
 "nbformat": 4,
 "nbformat_minor": 2
}
