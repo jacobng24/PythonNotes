{
 "cells": [
  {
   "cell_type": "code",
   "execution_count": 8,
   "metadata": {},
   "outputs": [
    {
     "name": "stdout",
     "output_type": "stream",
     "text": [
      "[ 0  1  4  9 16]\n",
      "[[1. 1. 1. 1.]\n",
      " [1. 1. 1. 1.]]\n",
      "[ 0.   2.5  5.   7.5 10. ]\n",
      "[ 7.78675123 -0.35075166  5.1570746   2.1641213  -7.58682586 -7.58516624\n",
      "  6.71468973 -6.66255039  7.3779821   2.04858054]\n",
      "[1 3 5]\n"
     ]
    }
   ],
   "source": [
    "import numpy as np\n",
    "print(np.array([i**2 for i in range(5)])) #creates array from sequence\n",
    "print(np.ones((2,4))) #creates array of ones\n",
    "print(np.linspace(0,10,5)) \n",
    "print(np.random.normal(1,5,10)) #samples 10 numbbers randomly from mean01, std-dev-5 normal\n",
    "print(np.array([1.5,3.20,5.78], dtype=int)) #creates array from specified datatype\n"
   ]
  },
  {
   "cell_type": "code",
   "execution_count": 16,
   "metadata": {},
   "outputs": [
    {
     "name": "stdout",
     "output_type": "stream",
     "text": [
      "[1. 2. 3.]\n",
      "[[1. 2. 3.]\n",
      " [4. 5. 6.]]\n",
      "[[[0 0 0 0]\n",
      "  [0 0 0 0]\n",
      "  [0 0 0 0]]\n",
      "\n",
      " [[0 0 0 0]\n",
      "  [0 0 0 0]\n",
      "  [0 0 0 0]]]\n"
     ]
    }
   ],
   "source": [
    "#Creates array from Python Sequences\n",
    "# You can create an array from list or tuple by using .array function\n",
    "print(np.array([1.,2.,3.])) #shape: 3,\n",
    "#list of lists of nums will produce 2d array\n",
    "print(np.array([[1., 2., 3.], [4., 5., 6.]])) # shape: (2,3)\n",
    "# A list of lists of lists of zeros create a 3d array\n",
    "print(np.array([[[0]*4]*3]*2))"
   ]
  },
  {
   "cell_type": "code",
   "execution_count": 23,
   "metadata": {},
   "outputs": [
    {
     "name": "stdout",
     "output_type": "stream",
     "text": [
      "[[0. 0. 0. 0.]\n",
      " [0. 0. 0. 0.]\n",
      " [0. 0. 0. 0.]]\n",
      "[1. 1. 1. 1.]\n"
     ]
    }
   ],
   "source": [
    "#Creating Constant Arrays: Zeros and ones\n",
    "print(np.zeros((3,4))) # 3x4 array of zeros\n",
    "#Create a shape-(4,) array of ones\n",
    "print(np.ones((4,))) #Create a array of ones"
   ]
  },
  {
   "cell_type": "code",
   "execution_count": 29,
   "metadata": {},
   "outputs": [
    {
     "name": "stdout",
     "output_type": "stream",
     "text": [
      "[0 1 2 3 4 5 6 7 8 9]\n",
      "[0 1 2 3 4 5 6 7 8 9]\n",
      "[-5 -3 -1  1  3  5]\n",
      "[-1.  -0.5  0.   0.5  1. ]\n",
      "[-100.  -50.    0.   50.  100.]\n",
      "[3. 4.]\n",
      "[-3.14159265 -3.07812614 -3.01465962 -2.9511931  -2.88772658 -2.82426006\n",
      " -2.76079354 -2.69732703 -2.63386051 -2.57039399 -2.50692747 -2.44346095\n",
      " -2.37999443 -2.31652792 -2.2530614  -2.18959488 -2.12612836 -2.06266184\n",
      " -1.99919533 -1.93572881 -1.87226229 -1.80879577 -1.74532925 -1.68186273\n",
      " -1.61839622 -1.5549297  -1.49146318 -1.42799666 -1.36453014 -1.30106362\n",
      " -1.23759711 -1.17413059 -1.11066407 -1.04719755 -0.98373103 -0.92026451\n",
      " -0.856798   -0.79333148 -0.72986496 -0.66639844 -0.60293192 -0.53946541\n",
      " -0.47599889 -0.41253237 -0.34906585 -0.28559933 -0.22213281 -0.1586663\n",
      " -0.09519978 -0.03173326  0.03173326  0.09519978  0.1586663   0.22213281\n",
      "  0.28559933  0.34906585  0.41253237  0.47599889  0.53946541  0.60293192\n",
      "  0.66639844  0.72986496  0.79333148  0.856798    0.92026451  0.98373103\n",
      "  1.04719755  1.11066407  1.17413059  1.23759711  1.30106362  1.36453014\n",
      "  1.42799666  1.49146318  1.5549297   1.61839622  1.68186273  1.74532925\n",
      "  1.80879577  1.87226229  1.93572881  1.99919533  2.06266184  2.12612836\n",
      "  2.18959488  2.2530614   2.31652792  2.37999443  2.44346095  2.50692747\n",
      "  2.57039399  2.63386051  2.69732703  2.76079354  2.82426006  2.88772658\n",
      "  2.9511931   3.01465962  3.07812614  3.14159265]\n"
     ]
    }
   ],
   "source": [
    "#Creating Sequential Array: arange and linspace\n",
    "print(np.arange(0, 10, 1))  # start (included):0, stop (excluded):10,step:1\n",
    "print(np.arange(10))  # start = 0, step= 1 are defaults\n",
    "print(np.arange(-5, 6, 2))\n",
    "\n",
    "#Linespace allows you to gernate N evenly-spaced points within interval\n",
    "print(np.linspace(-1, 1, 5)) #makes five evenly-spaced points on the interval\n",
    "print(np.linspace(-100,100, 5))\n",
    "print(np.linspace(3,4,2)) #two evenly spaced pints on 3,4\n",
    "print(np.linspace(-np.pi, np.pi, 100)) #lmao"
   ]
  },
  {
   "cell_type": "code",
   "execution_count": 34,
   "metadata": {},
   "outputs": [
    {
     "name": "stdout",
     "output_type": "stream",
     "text": [
      "[[0.58112577 0.30812097 0.83495336]\n",
      " [0.23432606 0.24946403 0.63768462]\n",
      " [0.59162153 0.98906745 0.53105687]]\n",
      "[ 0.25087824 -1.20481653  0.11333633 -0.3382475  -0.08424777]\n"
     ]
    }
   ],
   "source": [
    "#Random sampling\n",
    "rng = np.random.default_rng()\n",
    "print(rng.random((3,3))) #entries randomly from [0,1)\n",
    "print(rng.normal(size=(5,))) #Create a shape 5, array by drawing randomly\n",
    "                            # from a mean-0, variance-1 Gaussian distribution"
   ]
  },
  {
   "cell_type": "code",
   "execution_count": 42,
   "metadata": {},
   "outputs": [
    {
     "name": "stdout",
     "output_type": "stream",
     "text": [
      "[1. 2. 3.]\n",
      "int64\n",
      "[0. 1. 2. 3.]\n",
      "[[0.+0.j 0.+0.j 0.+0.j 0.+0.j]\n",
      " [0.+0.j 0.+0.j 0.+0.j 0.+0.j]\n",
      " [0.+0.j 0.+0.j 0.+0.j 0.+0.j]\n",
      " [0.+0.j 0.+0.j 0.+0.j 0.+0.j]]\n"
     ]
    }
   ],
   "source": [
    "#Specificed Data Type Array\n",
    "print(np.array([1,2,3], dtype=\"float32\"))\n",
    "print(np.arange(0,4).dtype) #default is 64 bit ints\n",
    "print(np.arange(0,4,dtype=\"float16\")) #Data type produced by 'arange' can be specified otherwise\n",
    "print(np.zeros((4,4),dtype=\"complex64\"))\n"
   ]
  },
  {
   "cell_type": "code",
   "execution_count": 54,
   "metadata": {},
   "outputs": [
    {
     "name": "stdout",
     "output_type": "stream",
     "text": [
      "[[ 1  2  3]\n",
      " [-1 -2 -3]]\n",
      "[ 1  2  3 -1 -2 -3]\n"
     ]
    },
    {
     "data": {
      "text/plain": [
       "array([ 0.        ,  0.2020202 ,  0.4040404 ,  0.60606061,  0.80808081,\n",
       "        1.01010101,  1.21212121,  1.41414141,  1.61616162,  1.81818182,\n",
       "        2.02020202,  2.22222222,  2.42424242,  2.62626263,  2.82828283,\n",
       "        3.03030303,  3.23232323,  3.43434343,  3.63636364,  3.83838384,\n",
       "        4.04040404,  4.24242424,  4.44444444,  4.64646465,  4.84848485,\n",
       "        5.05050505,  5.25252525,  5.45454545,  5.65656566,  5.85858586,\n",
       "        6.06060606,  6.26262626,  6.46464646,  6.66666667,  6.86868687,\n",
       "        7.07070707,  7.27272727,  7.47474747,  7.67676768,  7.87878788,\n",
       "        8.08080808,  8.28282828,  8.48484848,  8.68686869,  8.88888889,\n",
       "        9.09090909,  9.29292929,  9.49494949,  9.6969697 ,  9.8989899 ,\n",
       "       10.1010101 , 10.3030303 , 10.50505051, 10.70707071, 10.90909091,\n",
       "       11.11111111, 11.31313131, 11.51515152, 11.71717172, 11.91919192,\n",
       "       12.12121212, 12.32323232, 12.52525253, 12.72727273, 12.92929293,\n",
       "       13.13131313, 13.33333333, 13.53535354, 13.73737374, 13.93939394,\n",
       "       14.14141414, 14.34343434, 14.54545455, 14.74747475, 14.94949495,\n",
       "       15.15151515, 15.35353535, 15.55555556, 15.75757576, 15.95959596,\n",
       "       16.16161616, 16.36363636, 16.56565657, 16.76767677, 16.96969697,\n",
       "       17.17171717, 17.37373737, 17.57575758, 17.77777778, 17.97979798,\n",
       "       18.18181818, 18.38383838, 18.58585859, 18.78787879, 18.98989899,\n",
       "       19.19191919, 19.39393939, 19.5959596 , 19.7979798 , 20.        ])"
      ]
     },
     "execution_count": 54,
     "metadata": {},
     "output_type": "execute_result"
    }
   ],
   "source": [
    "#Joining Arrays Together\n",
    "x = np.array([1, 2, 3])\n",
    "y = np.array([-1, -2, -3])\n",
    "print(np.vstack([x,y])) #Stacks vertically, makes another array and a array to encapsulate\n",
    "#for vstack, both arrays must have same amount of columns\n",
    "print(np.hstack([x,y])) #Stacks horizontally"
   ]
  }
 ],
 "metadata": {
  "kernelspec": {
   "display_name": "base",
   "language": "python",
   "name": "python3"
  },
  "language_info": {
   "codemirror_mode": {
    "name": "ipython",
    "version": 3
   },
   "file_extension": ".py",
   "mimetype": "text/x-python",
   "name": "python",
   "nbconvert_exporter": "python",
   "pygments_lexer": "ipython3",
   "version": "3.9.13"
  },
  "orig_nbformat": 4
 },
 "nbformat": 4,
 "nbformat_minor": 2
}
