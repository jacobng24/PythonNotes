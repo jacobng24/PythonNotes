{
 "cells": [
  {
   "attachments": {},
   "cell_type": "markdown",
   "metadata": {},
   "source": [
    "\"Vectorized\" Operations: Optimized Computations on NumyPt Arrays"
   ]
  },
  {
   "cell_type": "code",
   "execution_count": 5,
   "metadata": {},
   "outputs": [
    {
     "name": "stdout",
     "output_type": "stream",
     "text": [
      "[[ 0.  1.  4.]\n",
      " [ 9. 16. 25.]\n",
      " [36. 49. 64.]]\n",
      "[[0.         1.         1.41421356]\n",
      " [1.73205081 2.         2.23606798]\n",
      " [2.44948974 2.64575131 2.82842712]]\n",
      "[0.5 1.5 2.5]\n"
     ]
    }
   ],
   "source": [
    "#Basic Math Operations using Arrays\n",
    "import numpy as np\n",
    "x = np.array([[ 0.,  1.,  2.],\n",
    "            [ 3.,  4.,  5.],\n",
    "              [ 6.,  7.,  8.]])\n",
    "print(x**2)\n",
    "print(np.sqrt(x))\n",
    "print(.5 + x[0, :])"
   ]
  },
  {
   "cell_type": "code",
   "execution_count": 45,
   "metadata": {},
   "outputs": [
    {
     "name": "stdout",
     "output_type": "stream",
     "text": [
      "[[-4.  -2.5 -1. ]\n",
      " [ 0.5  2.   3.5]\n",
      " [ 5.   6.5  8. ]]\n",
      "[[-0.  -3.5 -6. ]\n",
      " [-7.5 -8.  -7.5]\n",
      " [-6.  -3.5 -0. ]]\n",
      "36.0\n",
      "[ 9. 12. 15.]\n"
     ]
    }
   ],
   "source": [
    "y = np.array([[-4. , -3.5, -3. ],\n",
    "              [-2.5, -2. , -1.5],\n",
    "              [-1. , -0.5, -0. ]])\n",
    "print(x+y)\n",
    "print(x*y)\n",
    "\n",
    "#Sequential Function, np.sum\n",
    "x = x = np.array([[ 0.,  1.,  2.],\n",
    "                  [ 3.,  4.,  5.],\n",
    "                  [ 6.,  7.,  8.]])\n",
    "print(np.sum(x))\n",
    "print(np.sum(x, axis = 0)) #Summing over rows, within each column of array"
   ]
  },
  {
   "attachments": {},
   "cell_type": "markdown",
   "metadata": {},
   "source": [
    "- ND Arrays are homogenous (array can only contain one data type)\n",
    "- Lists and tuples are unrestricted\n",
    "- NumPy does this to delegate mathematical operations to optimized C code\n",
    "- This is known as **vectorization** (Basically describes the use of optimized, pre-compiled code written in a low-level language like C to perform operations)\n",
    "    - Way faster than analogous computation performed in Python"
   ]
  },
  {
   "cell_type": "code",
   "execution_count": 46,
   "metadata": {},
   "outputs": [
    {
     "name": "stdout",
     "output_type": "stream",
     "text": [
      "49995000\n",
      "49995000\n"
     ]
    }
   ],
   "source": [
    "import numpy as np\n",
    "print(np.sum(np.arange(10000))) #takes around 11 microseconds\n",
    "total = 0\n",
    "for i in np.arange(10000): #Takes about 822 microseconds\n",
    "    total = i + total   \n",
    "print(total)"
   ]
  },
  {
   "cell_type": "code",
   "execution_count": 47,
   "metadata": {},
   "outputs": [
    {
     "name": "stdout",
     "output_type": "stream",
     "text": [
      "[4 6 8]\n",
      "[ 2.   0.  -7.4]\n",
      "6\n"
     ]
    }
   ],
   "source": [
    "#Examples of vectorized function computations\n",
    "print(2 * np.array([2,3,4])) #multiply 2 with each num in array\n",
    "print(np.array([10.2, 3.5, -0.9]) - np.array([8.2,3.5,6.5])) #subtract two arrays\n",
    "print(np.dot(np.array([1, -3, 4]), np.array([2, 0, 1]))) #Take dot product of two arrays\n",
    "#Basically multiply their corresponding entries and sum result (1*2) + (-3*0) + (4*1) = 6"
   ]
  },
  {
   "attachments": {},
   "cell_type": "markdown",
   "metadata": {},
   "source": [
    "NumPy's Mathematical Functions\n",
    "- Unary functions: f(x)\n",
    "- Binary functions: f(x,y)\n",
    "- Functions that operate on sequences of numbers: f({x<sub>i</sub>})<sub>i=0</sub><sup>n-1</sup>"
   ]
  },
  {
   "cell_type": "code",
   "execution_count": 48,
   "metadata": {},
   "outputs": [
    {
     "name": "stdout",
     "output_type": "stream",
     "text": [
      "[0. 1. 2.]\n",
      "[0.         1.         1.41421356]\n"
     ]
    }
   ],
   "source": [
    "# Unary Functions (includes Trig, Log, and Exponential)\n",
    "# Applies f(x) gto each element within the array\n",
    "# **IT PRODUCES A NEW ARRAY AS A RESULT (input array is not overwritten)\n",
    "x = np.array([0.,1.,2.])\n",
    "y = np.array([10., 9., 16])\n",
    "print(np.absolute(x)) # |x|\n",
    "print(np.sqrt(x)) #sqrt(x)"
   ]
  },
  {
   "cell_type": "code",
   "execution_count": 49,
   "metadata": {},
   "outputs": [
    {
     "name": "stdout",
     "output_type": "stream",
     "text": [
      "[0.         0.84147098 0.90929743]\n",
      "[ 1.          0.54030231 -0.41614684]\n",
      "[ 0.          1.55740772 -2.18503986]\n"
     ]
    }
   ],
   "source": [
    "print(np.sin(x)) #sin x\n",
    "print(np.cos(x)) #cos x\n",
    "print(np.tan(x)) #tan x"
   ]
  },
  {
   "cell_type": "code",
   "execution_count": 50,
   "metadata": {},
   "outputs": [
    {
     "name": "stdout",
     "output_type": "stream",
     "text": [
      "[2.30258509 2.19722458 2.77258872]\n",
      "[1.         0.95424251 1.20411998]\n",
      "[3.32192809 3.169925   4.        ]\n",
      "[2.20264658e+04 8.10308393e+03 8.88611052e+06]\n"
     ]
    }
   ],
   "source": [
    "print(np.log(y)) # lnx\n",
    "print(np.log10(y)) # log10 x\n",
    "print(np.log2(y)) # log2 x\n",
    "print(np.exp(y)) #e^x"
   ]
  },
  {
   "cell_type": "code",
   "execution_count": 57,
   "metadata": {},
   "outputs": [
    {
     "name": "stdout",
     "output_type": "stream",
     "text": [
      "[[-1  2]\n",
      " [-3  4]]\n",
      "[[ 1  4]\n",
      " [ 9 16]]\n",
      "[1 9]\n"
     ]
    }
   ],
   "source": [
    "x = np.array([[-1,2], [-3,4]])\n",
    "print(x)\n",
    "print(np.square(x)) # equivalent to 'x**2'\n",
    "print(x[:, 0] **2) # square column-0 of x"
   ]
  },
  {
   "cell_type": "code",
   "execution_count": 23,
   "metadata": {},
   "outputs": [
    {
     "name": "stdout",
     "output_type": "stream",
     "text": [
      "[2.07944154 2.30258509]\n",
      "[2.07944154 2.30258509]\n"
     ]
    }
   ],
   "source": [
    "# excercise\n",
    "x = np.array([[ 0,  1,  2,  3],\n",
    "              [ 4,  5,  6,  7],\n",
    "              [ 8,  9, 10, 11],\n",
    "              [12, 13, 14, 15]])\n",
    "print(np.log(x[2,0::2]))\n",
    "        # OR ***\n",
    "y = np.log(x[2, 0])\n",
    "z = np.log(x[2, 2])\n",
    "print(np.hstack([y,z]))"
   ]
  },
  {
   "cell_type": "code",
   "execution_count": 37,
   "metadata": {},
   "outputs": [
    {
     "name": "stdout",
     "output_type": "stream",
     "text": [
      "[0 6]\n",
      "[0.  1.5]\n",
      "[1 5]\n",
      "[-1  1]\n",
      "[0 9]\n",
      "[0 1]\n",
      "\n",
      "[1 3]\n",
      "[0 2]\n"
     ]
    }
   ],
   "source": [
    "# Binary Functions \n",
    "# f(x,y)\n",
    "# we can still use standard math operators (+-*/) if both arrays are NumPy\n",
    "# Calling it will call the NumPy function \"under the hood\", vectorized will still be used\n",
    "x = np.array([0,3])\n",
    "y = np.array([1,2])\n",
    "#Main binary functions\n",
    "print(np.multiply(x,y)) # x * y\n",
    "print(np.divide(x,y)) # x / y\n",
    "print(np.add(x,y)) #x + y\n",
    "print(np.subtract(x,y)) # x - y\n",
    "print(np.power(x,y)) # x ** y\n",
    "print(np.mod(x,y)) # x % y\n",
    "print()\n",
    "#Some other common binary functions:\n",
    "print(np.maximum(x,y)) # max (x,y)\n",
    "print(np.minimum(x,y)) # min (x,y)"
   ]
  },
  {
   "cell_type": "code",
   "execution_count": 43,
   "metadata": {},
   "outputs": [
    {
     "name": "stdout",
     "output_type": "stream",
     "text": [
      "[[11  2]\n",
      " [-1  4]]\n",
      "[6 2]\n"
     ]
    }
   ],
   "source": [
    "x = np.array([[10,  2],\n",
    "              [ 3,  5]])\n",
    "\n",
    "y = np.array([[ 1,   0],\n",
    "              [ -4,  -1]])\n",
    "print(x + y)\n",
    "print(x[:,0] + y [1,:])"
   ]
  },
  {
   "cell_type": "code",
   "execution_count": 54,
   "metadata": {},
   "outputs": [
    {
     "name": "stdout",
     "output_type": "stream",
     "text": [
      "[[20 24]\n",
      " [36 40]]\n",
      "[[20 24]\n",
      " [36 40]]\n"
     ]
    }
   ],
   "source": [
    "# Excercise \n",
    "x = np.array([[ 0,  1,  2,  3],\n",
    "              [ 4,  5,  6,  7],\n",
    "              [ 8,  9, 10, 11],\n",
    "              [12, 13, 14, 15]])\n",
    "print(x[:2,:2] + x[:2, 2:4] + x[2:4, :2] + x[2:4, 2:4])\n",
    "print(x[:2,:2] + x[:2, -2:] + x[-2:, :2] + x[2:4, 2:4]) "
   ]
  },
  {
   "cell_type": "code",
   "execution_count": 63,
   "metadata": {},
   "outputs": [
    {
     "name": "stdout",
     "output_type": "stream",
     "text": [
      "[0. 3. 6.]\n",
      "[1. 4. 9.]\n",
      "[[10  4]\n",
      " [ 4  5]]\n",
      "[[  0  -2  -4  -6]\n",
      " [ -8 -10 -12 -14]]\n"
     ]
    }
   ],
   "source": [
    "# Scalars and Arrays\n",
    "print(3 * np.array([0., 1., 2.])) #Convenient calling for np.multiply(3,x)\n",
    "print(np.array([1.,2.,3.]) ** 2) #Convenient calling for np.power(x,2)\n",
    "x = np.array([[10,  2],\n",
    "              [3,  5]])\n",
    "print(np.maximum(4,x))\n",
    "y = np.array([[[ 0,  1,  2,  3,  4,  5,  6,  7],\n",
    "               [ 8,  9, 10, 11, 12, 13, 14, 15]],\n",
    "\n",
    "              [[16, 17, 18, 19, 20, 21, 22, 23],\n",
    "               [24, 25, 26, 27, 28, 29, 30, 31]]])\n",
    "print(y[0,:,::2] * -1)\n"
   ]
  },
  {
   "attachments": {},
   "cell_type": "markdown",
   "metadata": {},
   "source": [
    "Sequential Functions\n",
    "- f({x<sub>i</sub>})<sub>i=0</sub><sup>n-1</sup>\n",
    "- Sequential function expects a variable length sequence of numbers for input\n",
    "- Produces a single number as output"
   ]
  },
  {
   "cell_type": "code",
   "execution_count": 74,
   "metadata": {},
   "outputs": [
    {
     "name": "stdout",
     "output_type": "stream",
     "text": [
      "2.3333333333333335\n",
      "3.0\n",
      "2.8888888888888893\n",
      "1.699673171197595\n",
      "4.0\n",
      "0.0\n",
      "2\n",
      "0\n",
      "7.0\n"
     ]
    }
   ],
   "source": [
    "x = np.array([0.,3.,4.])\n",
    "print(np.mean(x)) #x.mean()\n",
    "print(np.median(x)) #x.median()\n",
    "print(np.var(x)) #Variance (degree spread of data)\n",
    "print(np.std(x)) #Std deviation\n",
    "print(np.max(x)) # Differnet from np.max(x,y) [takes different num of vals]\n",
    "print(np.min(x)) # Minimum val\n",
    "print(np.argmax(x)) # Index of max value\n",
    "print(np.argmin(x)) # Index of min value\n",
    "print(np.sum(x)) # x.sum()"
   ]
  },
  {
   "cell_type": "code",
   "execution_count": 76,
   "metadata": {},
   "outputs": [
    {
     "data": {
      "text/plain": [
       "15"
      ]
     },
     "execution_count": 76,
     "metadata": {},
     "output_type": "execute_result"
    }
   ],
   "source": [
    "# Multi dimensional arrays and sequential functions\n",
    "x = np.array([[0,1],\n",
    "              [2,3],\n",
    "              [4,5]])\n",
    "np.sum(x) #Sum will treat multi-d array as a single sequence by default"
   ]
  },
  {
   "cell_type": "code",
   "execution_count": 102,
   "metadata": {},
   "outputs": [
    {
     "name": "stdout",
     "output_type": "stream",
     "text": [
      "[6 9]\n",
      "[1 5 9]\n",
      "[1 5 9]\n",
      "15\n"
     ]
    }
   ],
   "source": [
    "# Specifying the axis Keyword Arg in sequential NumPy Fucntions\n",
    "# creating a shape-(3,2) array\n",
    "x = np.array([[0, 1],\n",
    "              [2, 3],\n",
    "              [4, 5]])\n",
    "print(np.sum(x, axis = 0)) #Sum over axis-0 within axis-1, sums over rows within each column\n",
    "print(np.sum(x, axis = 1)) #Sum over columns within each row\n",
    "\n",
    "# negative axis-indices can be used too\n",
    "print(np.sum(x, axis=-1))  # equivalent: np.sum(x, axis=1)\n",
    "\n",
    "# sum over axis-0 and axis-1\n",
    "# i.e. sum the array as if it were a 1D sequence (default behavior)\n",
    "print(np.sum(x, axis=(0, 1)))  # equivalent: x.sum(axis=(0, 1))\n",
    "\n"
   ]
  },
  {
   "cell_type": "code",
   "execution_count": 111,
   "metadata": {},
   "outputs": [
    {
     "name": "stdout",
     "output_type": "stream",
     "text": [
      "[[[ 0  1  2]\n",
      "  [ 3  4  5]]\n",
      "\n",
      " [[ 6  7  8]\n",
      "  [ 9 10 11]]\n",
      "\n",
      " [[12 13 14]\n",
      "  [15 16 17]]\n",
      "\n",
      " [[18 19 20]\n",
      "  [21 22 23]]]\n"
     ]
    },
    {
     "data": {
      "text/plain": [
       "array([10., 13.])"
      ]
     },
     "execution_count": 111,
     "metadata": {},
     "output_type": "execute_result"
    }
   ],
   "source": [
    "x = np.arange(24).reshape(4,2,3)\n",
    "print(x)\n",
    "np.mean(x, axis = (0,2))"
   ]
  },
  {
   "cell_type": "code",
   "execution_count": 112,
   "metadata": {},
   "outputs": [
    {
     "name": "stdout",
     "output_type": "stream",
     "text": [
      "(32, 32, 3)\n",
      "153408.20539344082\n",
      "(100,)\n",
      "(32, 32)\n",
      "(100,)\n"
     ]
    }
   ],
   "source": [
    "# Excercise\n",
    "# 4D array of random numbers\n",
    "images = np.random.rand(100, 32, 32, 3)\n",
    "\n",
    "mean_imag = images.mean(axis=0)\n",
    "print(mean_imag.shape)\n",
    "\n",
    "print(images.sum())\n",
    "\n",
    "min_blue = images[:, :, :, 2].min(axis=(1, 2))\n",
    "print(min_blue.shape)\n",
    "\n",
    "pixel_std_dev = images.std(axis=(0, 3))\n",
    "print(pixel_std_dev.shape)\n",
    "\n",
    "max_red_quad = images[:, :16, :16, 0].max(axis=(1, 2))\n",
    "print(max_red_quad.shape)"
   ]
  },
  {
   "cell_type": "code",
   "execution_count": 169,
   "metadata": {},
   "outputs": [
    {
     "name": "stdout",
     "output_type": "stream",
     "text": [
      "[[0.43721893 0.55700938 0.53777203]\n",
      " [0.63252322 0.55126801 0.4513965 ]]\n",
      "0.011226510147192004\n",
      "[0.27498103 0.28095865 0.28125474 0.31746754]\n",
      "[[2.94040053 3.68418677 3.22218446 3.3355425  4.29748227]\n",
      " [1.88452639 2.26313855 2.09543029 2.39683217 3.71435352]\n",
      " [3.09832395 3.46602226 4.12030294 4.02234905 2.45489297]\n",
      " [2.90625983 3.69950554 4.50554248 1.86096102 3.37552396]]\n"
     ]
    }
   ],
   "source": [
    "# AXES EXPLAINED BY ME, JACOB NG :DDDD\n",
    "# Basically, this is very goofy\n",
    "# I still don't really understand\n",
    "\n",
    "images = np.random.rand(2, 3, 4, 5) #Shape is (2,3,4,5) (\"stack, sheet, row, column\")\n",
    "print(images.mean(axis=(-2,-1))) #this essentially provides length of 2,3 since it finds the sums of the last two lengths (4,5)\n",
    "#What the equation means is that it finds the mean of all numbers in rows and columns of x, for each sheet in stack\n",
    "print(images.min()) #returns one value because it goes through all axes\n",
    "print(images.std(axis=(0,1,3))) # This is one dimension because it finds the std of every other axis\n",
    "print(np.sum(images, axis=(0,1))) #The axes of the value returned is (4,5) since we find the sum of (2,3)"
   ]
  }
 ],
 "metadata": {
  "kernelspec": {
   "display_name": "base",
   "language": "python",
   "name": "python3"
  },
  "language_info": {
   "codemirror_mode": {
    "name": "ipython",
    "version": 3
   },
   "file_extension": ".py",
   "mimetype": "text/x-python",
   "name": "python",
   "nbconvert_exporter": "python",
   "pygments_lexer": "ipython3",
   "version": "3.9.13"
  },
  "orig_nbformat": 4
 },
 "nbformat": 4,
 "nbformat_minor": 2
}
