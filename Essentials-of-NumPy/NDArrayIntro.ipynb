{
 "cells": [
  {
   "cell_type": "code",
   "execution_count": 26,
   "metadata": {},
   "outputs": [
    {
     "name": "stdout",
     "output_type": "stream",
     "text": [
      "<class 'numpy.ndarray'>\n",
      "True\n",
      "[[0 1 2]\n",
      " [3 4 5]\n",
      " [6 7 8]]\n",
      "[[ 0  1  4]\n",
      " [ 9 16 25]\n",
      " [36 49 64]]\n",
      "\n",
      "[1. 4. 7.]\n",
      "\n",
      "[[ 1.  1.  4.]\n",
      " [ 1.  4. 25.]\n",
      " [ 1.  7. 64.]]\n",
      "\n",
      "[[0 1 2]\n",
      " [3 4 5]]\n",
      "\n",
      "[[ 0  1 -2]\n",
      " [ 3 -4  5]\n",
      " [-6  7 -8]]\n"
     ]
    }
   ],
   "source": [
    "import numpy as np #as np allows us to abbreviate\n",
    "x = np.array([0,1,2,3,4,5,6,7,8,]) #ND-array\n",
    "print(type(x))\n",
    "print(isinstance(x, np.ndarray))\n",
    "x = x.reshape(3,3)\n",
    "print(x)\n",
    "print(np.power(x,2)) #utilize \"vectorized\" operations without need of for loop\n",
    "print(\"\")\n",
    "print(np.mean(x, axis=1)) #mean of each row\n",
    "print(\"\")\n",
    "print(x**np.array([0.,1.,2.])) #broadcasting to raise each column of x to diff power\n",
    "print(\"\")\n",
    "print(x[:2, :3]) #first two rows, first three columns\n",
    "print(\"\")\n",
    "x[x%2 ==0] *= -1 #change all even numbers to negative\n",
    "print(x)"
   ]
  }
 ],
 "metadata": {
  "kernelspec": {
   "display_name": "base",
   "language": "python",
   "name": "python3"
  },
  "language_info": {
   "codemirror_mode": {
    "name": "ipython",
    "version": 3
   },
   "file_extension": ".py",
   "mimetype": "text/x-python",
   "name": "python",
   "nbconvert_exporter": "python",
   "pygments_lexer": "ipython3",
   "version": "3.9.13"
  },
  "orig_nbformat": 4,
  "vscode": {
   "interpreter": {
    "hash": "caca2e1f2cf956f3f423d6a7dbff1718e7ac4852b47e537eb119e8f271864121"
   }
  }
 },
 "nbformat": 4,
 "nbformat_minor": 2
}
