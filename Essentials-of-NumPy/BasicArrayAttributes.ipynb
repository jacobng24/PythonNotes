{
 "cells": [
  {
   "cell_type": "code",
   "execution_count": 7,
   "metadata": {},
   "outputs": [
    {
     "name": "stdout",
     "output_type": "stream",
     "text": [
      "3\n",
      "(3, 2, 4)\n",
      "24\n",
      "int64\n",
      "8\n"
     ]
    }
   ],
   "source": [
    "import numpy as np\n",
    "example_array = np.array([[[ 0,  1,  2,  3],\n",
    "                           [ 4,  5,  6,  7]],\n",
    "\n",
    "                          [[ 8,  9, 10, 11],\n",
    "                           [12, 13, 14, 15]],\n",
    "\n",
    "                          [[16, 17, 18, 19],\n",
    "                           [20, 21, 22, 23]]])\n",
    "print(example_array.ndim) #dimensionality of the array\n",
    "print(example_array.shape) #shape\n",
    "print(example_array.size) # number of elements\n",
    "print(example_array.dtype) #int 64 bits\n",
    "print(example_array.itemsize) #8 bytes (32 bits)"
   ]
  }
 ],
 "metadata": {
  "kernelspec": {
   "display_name": "base",
   "language": "python",
   "name": "python3"
  },
  "language_info": {
   "codemirror_mode": {
    "name": "ipython",
    "version": 3
   },
   "file_extension": ".py",
   "mimetype": "text/x-python",
   "name": "python",
   "nbconvert_exporter": "python",
   "pygments_lexer": "ipython3",
   "version": "3.9.13"
  },
  "orig_nbformat": 4
 },
 "nbformat": 4,
 "nbformat_minor": 2
}
