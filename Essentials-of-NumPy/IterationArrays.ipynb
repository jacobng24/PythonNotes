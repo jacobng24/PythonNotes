{
 "cells": [
  {
   "cell_type": "code",
   "execution_count": 17,
   "metadata": {},
   "outputs": [
    {
     "name": "stdout",
     "output_type": "stream",
     "text": [
      "[(0, 'a'), (1, 'b'), (2, 'c'), (3, 'd'), (4, 'e'), (5, 'f')]\n"
     ]
    },
    {
     "data": {
      "text/plain": [
       "[((0, 0, 0), 25),\n",
       " ((0, 0, 1), 6),\n",
       " ((0, 0, 2), -35),\n",
       " ((0, 1, 0), 9),\n",
       " ((0, 1, 1), -40),\n",
       " ((0, 1, 2), -29),\n",
       " ((1, 0, 0), -8),\n",
       " ((1, 0, 1), 2),\n",
       " ((1, 0, 2), -37),\n",
       " ((1, 1, 0), 17),\n",
       " ((1, 1, 1), 10),\n",
       " ((1, 1, 2), -45)]"
      ]
     },
     "execution_count": 17,
     "metadata": {},
     "output_type": "execute_result"
    }
   ],
   "source": [
    "import numpy as np\n",
    "print([i for i in enumerate(\"abcdef\")]) #Enumeration for iterable\n",
    "\n",
    "#ndenumerate function\n",
    "x = np.array([[[ 25,   6, -35],\n",
    "               [  9, -40, -29]],\n",
    "\n",
    "              [[ -8,   2, -37],\n",
    "               [ 17,  10, -45]]])\n",
    "[i for i in np.ndenumerate(x)]#Enumerates each element in an ND array"
   ]
  },
  {
   "cell_type": "code",
   "execution_count": 19,
   "metadata": {},
   "outputs": [
    {
     "name": "stdout",
     "output_type": "stream",
     "text": [
      "25\n",
      "6\n",
      "[[0 1]\n",
      " [2 3]\n",
      " [4 5]\n",
      " [6 7]\n",
      " [8 9]]\n",
      "[0 1 2 3 4 5 6 7 8 9]\n"
     ]
    }
   ],
   "source": [
    "print(x[0,0,0])\n",
    "print(x[0,0,1])\n",
    "# Traversing Array: Row-major(C) vs Column-major(F) Traversal Ordering\n",
    "#array([0, 1, 2, 3, 4, 5]).reshape(2, 3) -->  array([[0, 1, 2],  or   array([[0, 2, 4],\n",
    "                                                  #  [3, 4, 5]])             [1, 3, 5]])\n",
    "#NumPy always defaults to row-major ordering which is the first one that goes from (0,1..,5)\n",
    "y = np.arange(10).reshape(5,2)\n",
    "print(y)\n",
    "print(y.reshape(10))"
   ]
  }
 ],
 "metadata": {
  "kernelspec": {
   "display_name": "base",
   "language": "python",
   "name": "python3"
  },
  "language_info": {
   "codemirror_mode": {
    "name": "ipython",
    "version": 3
   },
   "file_extension": ".py",
   "mimetype": "text/x-python",
   "name": "python",
   "nbconvert_exporter": "python",
   "pygments_lexer": "ipython3",
   "version": "3.9.13"
  },
  "orig_nbformat": 4
 },
 "nbformat": 4,
 "nbformat_minor": 2
}
