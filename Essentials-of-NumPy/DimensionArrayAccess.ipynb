{
 "cells": [
  {
   "cell_type": "code",
   "execution_count": 2,
   "metadata": {},
   "outputs": [
    {
     "name": "stdout",
     "output_type": "stream",
     "text": [
      "[[1 0]\n",
      " [3 2]]\n"
     ]
    }
   ],
   "source": [
    "import numpy as np\n",
    "#Note\n",
    "    #when accessing arrays, it goes from outside to inside (ex: [0,1,1])\n",
    "    #\n",
    "np.array(8) # 1D array\n",
    "np.array([[93,  95],\n",
    "          [84, 100],\n",
    "          [99,  87]])  # 2D array\n",
    "x = np.array([[[0,1],[2,3]], \n",
    "         [[4,5],[6,7]]]) #3D array\n",
    "#0-based indices and slicing to access\n",
    "print(x[0,:,::-1]) #sheet-0, both rows, flip order of columns"
   ]
  },
  {
   "cell_type": "code",
   "execution_count": 23,
   "metadata": {},
   "outputs": [
    {
     "name": "stdout",
     "output_type": "stream",
     "text": [
      "2.3\n",
      "0.1\n",
      "[ 0.1 -9.1]\n"
     ]
    }
   ],
   "source": [
    "#1D Array\n",
    "oneD_array = np.array([2.3, 0.1, -9.1])\n",
    "print(oneD_array[0])\n",
    "print(oneD_array[-2])\n",
    "print(oneD_array[1:3])\n"
   ]
  },
  {
   "cell_type": "code",
   "execution_count": 35,
   "metadata": {},
   "outputs": [
    {
     "name": "stdout",
     "output_type": "stream",
     "text": [
      "(3, 2)\n",
      "84\n",
      "[ 95 100  87]\n",
      "[100  87]\n",
      "[[93]\n",
      " [84]\n",
      " [99]]\n",
      "[ 95 100  87]\n"
     ]
    }
   ],
   "source": [
    "#2D Array\n",
    "grades = np.array([[93, 95], [84,100], [99,87]]) #a oneD array would not be ideal\n",
    "print(grades.shape)\n",
    "print(grades[1,0])\n",
    "#Slice indexing\n",
    "print(grades[0:3, 1]) #slice through all arrays and get the element at pos 1\n",
    "print(grades[1:, 1]) #equivalent to grades[1:3, 1]\n",
    "print(grades[:, :1]) #equivalent to grades [0:3, 0:1]\n",
    "#Negative indices\n",
    "print(grades[:, -1])"
   ]
  },
  {
   "cell_type": "code",
   "execution_count": 39,
   "metadata": {},
   "outputs": [
    {
     "name": "stdout",
     "output_type": "stream",
     "text": [
      "2\n",
      "[0 4]\n",
      "[[4 5]\n",
      " [6 7]]\n"
     ]
    }
   ],
   "source": [
    "#N-Dimensional Arrays\n",
    "d3_array = np.array ([[[0,1],[2,3]], [[4,5],[6,7]]])\n",
    "print(d3_array[0,1,0])\n",
    "print(d3_array[:,0,0]) #Retrieve a 1d sub-array from a 3d-array\n",
    "print(d3_array[1]) # also known as d3_array [1,:, :] / retrieve a 2d sub-array"
   ]
  },
  {
   "cell_type": "code",
   "execution_count": 8,
   "metadata": {},
   "outputs": [
    {
     "name": "stdout",
     "output_type": "stream",
     "text": [
      "[[ 2  5  8]\n",
      " [11 14 17]\n",
      " [20 23 26]]\n",
      "[[ 3  4  5]\n",
      " [12 13 14]]\n",
      "[[2 5]]\n",
      "[[11 10  9]\n",
      " [14 13 12]\n",
      " [17 16 15]]\n"
     ]
    }
   ],
   "source": [
    "# Excercise\n",
    "arr = np.array([[[ 0,  1,  2],\n",
    "                 [ 3,  4,  5],\n",
    "                 [ 6,  7,  8]],\n",
    "\n",
    "                [[ 9, 10, 11],\n",
    "                 [12, 13, 14],\n",
    "                 [15, 16, 17]],\n",
    "\n",
    "                [[18, 19, 20],\n",
    "                 [21, 22, 23],\n",
    "                 [24, 25, 26]]])\n",
    "print(arr[:,:,2])\n",
    "print(arr[0:2,1,:])\n",
    "print(arr[:1,:2,2])\n",
    "print(arr[1,:,::-1])"
   ]
  },
  {
   "cell_type": "code",
   "execution_count": 84,
   "metadata": {},
   "outputs": [
    {
     "name": "stdout",
     "output_type": "stream",
     "text": [
      "15.2\n"
     ]
    }
   ],
   "source": [
    "#Zero dimensional arrays\n",
    "x = np.array(15.2) #you cannot index in array\n",
    "print(x.item()) #must use this syntax to retrieve numerical entry\n",
    "#Don't show up in real applications"
   ]
  },
  {
   "cell_type": "code",
   "execution_count": 88,
   "metadata": {},
   "outputs": [
    {
     "name": "stdout",
     "output_type": "stream",
     "text": [
      "[[[ 1  2]\n",
      "  [ 3  4]]\n",
      "\n",
      " [[ 5  6]\n",
      "  [ 7  8]]\n",
      "\n",
      " [[ 9 10]\n",
      "  [11 12]]]\n",
      "[[ 1  5  9]\n",
      " [ 2  6 10]\n",
      " [ 3  7 11]\n",
      " [ 4  8 12]]\n"
     ]
    }
   ],
   "source": [
    "# Manipulating Arrays\n",
    "x = np.array([[ 1,  2,  3,  4],\n",
    "              [ 5,  6,  7,  8],\n",
    "              [ 9, 10, 11, 12]])\n",
    "print(x.reshape(3,2,2))\n",
    "print(x.transpose()) #Transpose reverses the ordering of its axes."
   ]
  },
  {
   "cell_type": "code",
   "execution_count": 36,
   "metadata": {},
   "outputs": [
    {
     "name": "stdout",
     "output_type": "stream",
     "text": [
      "[[0 1 2]\n",
      " [3 4 5]]\n",
      "[[0 1 2 3 4]]\n",
      "------------\n",
      "[[[ 0  1]\n",
      "  [ 2  3]\n",
      "  [ 4  5]]\n",
      "\n",
      " [[ 6  7]\n",
      "  [ 8  9]\n",
      "  [10 11]]]\n"
     ]
    }
   ],
   "source": [
    "#Reshape\n",
    "x = np.array([0,1,2,3,4,5])\n",
    "print(x.reshape(2,3)) #Shapes the array into a (2[row],3[column]) array\n",
    "print(np.array([0,1,2,3,4]).reshape(1,5)) #cannot split into (3,2) because 5 can't split (since 2,3 = 6)\n",
    "print(\"------------\")\n",
    "#Reshaping a multidimensional array\n",
    "y = np.array([[ 0,  1,  2,  3],\n",
    "              [ 4,  5,  6,  7],\n",
    "              [ 8,  9, 10, 11]])\n",
    "print(y.reshape(2,3,2)) #Reshape from (3, 4) to (2, 3, 2)"
   ]
  },
  {
   "cell_type": "code",
   "execution_count": 15,
   "metadata": {},
   "outputs": [
    {
     "data": {
      "text/plain": [
       "array([[[ 0,  1,  2],\n",
       "        [ 3,  4,  5],\n",
       "        [ 6,  7,  8],\n",
       "        [ 9, 10, 11]],\n",
       "\n",
       "       [[12, 13, 14],\n",
       "        [15, 16, 17],\n",
       "        [18, 19, 20],\n",
       "        [21, 22, 23]],\n",
       "\n",
       "       [[24, 25, 26],\n",
       "        [27, 28, 29],\n",
       "        [30, 31, 32],\n",
       "        [33, 34, 35]]])"
      ]
     },
     "execution_count": 15,
     "metadata": {},
     "output_type": "execute_result"
    }
   ],
   "source": [
    "# \"Autofill\", basically, you can have NumPy compute a dimension's size for you\n",
    "# Use -1 for value you want\n",
    "np.arange(36).reshape(3, 4, 3)   # (36,) --reshape--> (3, 4, 3)\n",
    "np.arange(36).reshape(3, 4, -1)  # NumPy replaces -1 with 36/(3*4) -> 3\n",
    "np.arange(36).reshape(3, -1, 3)  # NumPy replaces -1 with 36/(3*3) -> 4\n",
    "np.arange(36).reshape(-1, 4, 3)  # NumPy replaces -1 with 36/(3*4) -> 3\n",
    "#Only one dimension\n"
   ]
  }
 ],
 "metadata": {
  "kernelspec": {
   "display_name": "base",
   "language": "python",
   "name": "python3"
  },
  "language_info": {
   "codemirror_mode": {
    "name": "ipython",
    "version": 3
   },
   "file_extension": ".py",
   "mimetype": "text/x-python",
   "name": "python",
   "nbconvert_exporter": "python",
   "pygments_lexer": "ipython3",
   "version": "3.9.13"
  },
  "orig_nbformat": 4
 },
 "nbformat": 4,
 "nbformat_minor": 2
}
