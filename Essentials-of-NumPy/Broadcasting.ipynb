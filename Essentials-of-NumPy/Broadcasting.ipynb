{
 "cells": [
  {
   "cell_type": "code",
   "execution_count": 2,
   "metadata": {},
   "outputs": [
    {
     "name": "stdout",
     "output_type": "stream",
     "text": [
      "[[-0.  -0.2 -0.6 -1.2]\n",
      " [-0.4 -1.  -1.8 -2.8]\n",
      " [-0.8 -1.8 -3.  -4.4]]\n",
      "[[[ 0  0]\n",
      "  [ 0  1]\n",
      "  [ 0 -1]]\n",
      "\n",
      " [[ 0  0]\n",
      "  [ 2  3]\n",
      "  [-2 -3]]\n",
      "\n",
      " [[ 0  0]\n",
      "  [ 4  5]\n",
      "  [-4 -5]]]\n"
     ]
    }
   ],
   "source": [
    "# Array Broadcasting\n",
    "# How NumPy treats arrays of unequal shapes\n",
    "import numpy as np\n",
    "x = np.array([[-0. , -0.1, -0.2, -0.3],\n",
    "              [-0.4, -0.5, -0.6, -0.7],\n",
    "              [-0.8, -0.9, -1. , -1.1]])\n",
    "y = np.array([1, 2, 3, 4])\n",
    "print(x * y) #y is multiplied by each row of x\n",
    "#Basically replicates the row three times to be multiplied\n",
    "\n",
    "x = np.array([[[0, 1]],\n",
    "               [[2, 3]],\n",
    "              [[4, 5]]])\n",
    "y = np.array([[0],\n",
    "              [1],\n",
    "              [-1]])\n",
    "print(x * y)  #Duplicates column to multiply across\n",
    "\n",
    "#Broadcast-incompatible arrays\n",
    "# np.array([1, 2]) * np.array([0, 1, 2])\n",
    "# Because (2,) array cannot be duplicated to match with (3,)"
   ]
  },
  {
   "cell_type": "code",
   "execution_count": 3,
   "metadata": {},
   "outputs": [
    {
     "name": "stdout",
     "output_type": "stream",
     "text": [
      "[[[ 0  1  2  3]\n",
      "  [ 4  5  6  7]\n",
      "  [ 8  9 10 11]]\n",
      "\n",
      " [[ 0  1  2  3]\n",
      "  [ 4  5  6  7]\n",
      "  [ 8  9 10 11]]]\n"
     ]
    }
   ],
   "source": [
    "#np.broadcast_to\n",
    "x = np.array([[0,1,2,3],\n",
    "              [4,5,6,7],\n",
    "              [8,9,10,11]])\n",
    "print(np.broadcast_to(x, (2,3,4))) #We can use this function to broadcast array to specific shape"
   ]
  },
  {
   "cell_type": "code",
   "execution_count": 4,
   "metadata": {},
   "outputs": [],
   "source": [
    "# Excercise\n",
    "# 7 x 2 with 7, incompatible\n",
    "# 4 with 3 x 4, turns into 3 * 4\n",
    "# 1 x 3 x 1 with 8 x 1 x 1, turns into 8 * 3 * 1\n",
    "# 9 x 2 x 5 with 2 x 5, turns into 9 * 2 * 5\n",
    "# 3 with 3 x 3 x 2, incompatible"
   ]
  },
  {
   "cell_type": "code",
   "execution_count": 5,
   "metadata": {},
   "outputs": [
    {
     "name": "stdout",
     "output_type": "stream",
     "text": [
      "[0.79 0.85 0.82]\n",
      "[[ 0.   -0.01  0.02]\n",
      " [ 0.08  0.08 -0.04]\n",
      " [-0.02  0.15  0.05]\n",
      " [-0.13 -0.1   0.  ]\n",
      " [ 0.05  0.04 -0.06]\n",
      " [ 0.04 -0.14  0.03]]\n"
     ]
    }
   ],
   "source": [
    "#Application\n",
    "#Each student has taken three exams\n",
    "grades = np.array([[ 0.79,  0.84,  0.84],\n",
    "                   [ 0.87,  0.93,  0.78],\n",
    "                   [ 0.77,  1.00,  0.87],\n",
    "                   [ 0.66,  0.75,  0.82],\n",
    "                   [ 0.84,  0.89,  0.76],\n",
    "                   [ 0.83,  0.71,  0.85]])\n",
    "mean_exam_scores = grades.mean(axis=0)\n",
    "mean_exam_scores = np.round(mean_exam_scores, 2)\n",
    "print(mean_exam_scores) #finds mean socre for each exam\n",
    "\n",
    "score_offset = np.zeros_like(grades)\n",
    "for n, scores_per_student in enumerate(grades): #scores_per_student is a shape (3,) array for given student\n",
    "    score_offset[n] = scores_per_student - mean_exam_scores\n",
    "score_offset = grades - mean_exam_scores\n",
    "print(score_offset) #Stores (score-mean) for each exam score"
   ]
  },
  {
   "cell_type": "code",
   "execution_count": 6,
   "metadata": {},
   "outputs": [
    {
     "name": "stdout",
     "output_type": "stream",
     "text": [
      "(2,)\n",
      "(10000, 2)\n"
     ]
    }
   ],
   "source": [
    "#Excercise\n",
    "x = np.random.rand(10000,2)\n",
    "center_of_mass = np.mean(x, axis = 0)\n",
    "print(center_of_mass.shape)\n",
    "\n",
    "relative_pos = x - center_of_mass\n",
    "print(relative_pos.shape)"
   ]
  },
  {
   "cell_type": "code",
   "execution_count": 7,
   "metadata": {},
   "outputs": [
    {
     "name": "stdout",
     "output_type": "stream",
     "text": [
      "[[[[1]]\n",
      "\n",
      "  [[2]]\n",
      "\n",
      "  [[3]]]]\n",
      "[[[[1]]\n",
      "\n",
      "  [[2]]\n",
      "\n",
      "  [[3]]]]\n",
      "(1, 3, 1, 1)\n"
     ]
    }
   ],
   "source": [
    "#NewAxis and Size-1 axes\n",
    "print(np.array([1,2,3]).reshape(1,3,1,1)) #(3, array into a (1,3,1,1))\n",
    "#One stack of three sheets, each has one row and column\n",
    "x = np.array([1,2,3])\n",
    "y= x[np.newaxis, :, np.newaxis, np.newaxis] #newaxis adds new axes\n",
    "print(y)\n",
    "print(y.shape)\n"
   ]
  },
  {
   "cell_type": "code",
   "execution_count": 8,
   "metadata": {},
   "outputs": [
    {
     "name": "stdout",
     "output_type": "stream",
     "text": [
      "[[1]\n",
      " [2]\n",
      " [3]]\n",
      "[[ 4  5  6  7]\n",
      " [ 8 10 12 14]\n",
      " [12 15 18 21]]\n"
     ]
    }
   ],
   "source": [
    "#Size-1 dimensions for Broadcasting\n",
    "x_1d = np.array([1,2,3])\n",
    "x = x_1d.reshape(3,1)\n",
    "print(x)\n",
    "y = np.array([4,5,6,7])\n",
    "print(x*y) #this result from the format of x (3,1) which is then multiplied by (4,)\n"
   ]
  },
  {
   "cell_type": "code",
   "execution_count": 9,
   "metadata": {},
   "outputs": [
    {
     "ename": "SyntaxError",
     "evalue": "invalid syntax (4254025099.py, line 9)",
     "output_type": "error",
     "traceback": [
      "\u001b[0;36m  File \u001b[0;32m\"/var/folders/p0/t__44dy534d06p7hcrs3wjdm0000gn/T/ipykernel_22297/4254025099.py\"\u001b[0;36m, line \u001b[0;32m9\u001b[0m\n\u001b[0;31m    summed_rows = x.sum((axis = 2))\u001b[0m\n\u001b[0m                              ^\u001b[0m\n\u001b[0;31mSyntaxError\u001b[0m\u001b[0;31m:\u001b[0m invalid syntax\n"
     ]
    }
   ],
   "source": [
    "# Excercise 2\n",
    "x = np.array([[[ 0,  1,  2,  3],\n",
    "               [ 4,  5,  6,  7],\n",
    "               [ 8,  9, 10, 11]],\n",
    "\n",
    "              [[12, 13, 14, 15],\n",
    "               [16, 17, 18, 19],\n",
    "               [20, 21, 22, 23]]])\n",
    "summed_rows = x.sum((axis = 2))\n",
    "print(summed_rows)\n",
    "\n",
    "norm = x / summed_rows[:, :,  np.newaxis]\n",
    "norm.sum(axis = 2)"
   ]
  },
  {
   "cell_type": "code",
   "execution_count": 10,
   "metadata": {},
   "outputs": [
    {
     "name": "stdout",
     "output_type": "stream",
     "text": [
      "(500, 3)\n",
      "[[1. 1. 1.]\n",
      " [1. 1. 1.]\n",
      " [1. 1. 1.]\n",
      " ...\n",
      " [1. 1. 1.]\n",
      " [1. 1. 1.]\n",
      " [1. 1. 1.]]\n"
     ]
    },
    {
     "data": {
      "text/plain": [
       "True"
      ]
     },
     "execution_count": 10,
     "metadata": {},
     "output_type": "execute_result"
    }
   ],
   "source": [
    "#Excercise 3\n",
    "images=np.random.rand(500,48,48,3)\n",
    "y = images.max(axis = (1,2))\n",
    "print(y.shape)\n",
    "\n",
    "norm_images = images / y.reshape(500,1,1,3)\n",
    "print(norm_images.max(axis =(1,2)))\n",
    "np.all(norm_images.max(axis=(1,2)) == 1)"
   ]
  },
  {
   "cell_type": "code",
   "execution_count": 11,
   "metadata": {},
   "outputs": [],
   "source": [
    "#Advanced Application: Pairwise Distances\n",
    "# Basically, the specific form of an equation can have a major impact on the memory-footprint\n",
    "# of its vectorized implementation in NumPy. This issue can be overlooked."
   ]
  },
  {
   "cell_type": "code",
   "execution_count": 26,
   "metadata": {},
   "outputs": [
    {
     "data": {
      "text/plain": [
       "array([[[[ 0.5324805 ,  0.18242591],\n",
       "         [ 0.11624193,  0.54804971],\n",
       "         [ 0.46239259, -0.08505468]]],\n",
       "\n",
       "\n",
       "       [[[ 0.18543895, -0.06029977],\n",
       "         [ 0.38156674,  0.30522537],\n",
       "         [ 0.10354233,  0.65723834]]],\n",
       "\n",
       "\n",
       "       [[[ 0.54889963,  0.40453364],\n",
       "         [-0.01222668, -0.10304069],\n",
       "         [-0.15575986,  0.05985804]]],\n",
       "\n",
       "\n",
       "       [[[ 0.43922881,  0.36269468],\n",
       "         [ 0.67997899, -0.17275274],\n",
       "         [ 0.49214249, -0.12804665]]]])"
      ]
     },
     "execution_count": 26,
     "metadata": {},
     "output_type": "execute_result"
    }
   ],
   "source": [
    "images=np.random.rand(4,1,3,2)\n",
    "images2=np.random.rand(1,1,1)\n",
    "images - images2"
   ]
  }
 ],
 "metadata": {
  "kernelspec": {
   "display_name": "base",
   "language": "python",
   "name": "python3"
  },
  "language_info": {
   "codemirror_mode": {
    "name": "ipython",
    "version": 3
   },
   "file_extension": ".py",
   "mimetype": "text/x-python",
   "name": "python",
   "nbconvert_exporter": "python",
   "pygments_lexer": "ipython3",
   "version": "3.9.13"
  },
  "orig_nbformat": 4
 },
 "nbformat": 4,
 "nbformat_minor": 2
}
